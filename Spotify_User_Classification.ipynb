{
 "cells": [
  {
   "cell_type": "code",
   "execution_count": 106,
   "id": "17f9fde8",
   "metadata": {},
   "outputs": [],
   "source": [
    "import pandas as pd\n",
    "import numpy as np\n",
    "import os \n",
    "import matplotlib.pyplot as plt\n",
    "import copy\n",
    "import seaborn as sns\n",
    "from sklearn.cluster import KMeans\n",
    "from sklearn.model_selection import train_test_split\n",
    "from sklearn.linear_model import LogisticRegression, LinearRegression\n",
    "from sklearn.metrics import mean_squared_error\n",
    "from sklearn.model_selection import cross_val_score, KFold\n",
    "from sklearn.metrics import confusion_matrix\n",
    "from mlxtend.frequent_patterns import apriori\n",
    "from mlxtend.frequent_patterns import association_rules\n",
    "from sklearn.metrics import accuracy_score\n",
    "import matplotlib.gridspec as gridspec\n",
    "import itertools\n",
    "from sklearn.svm import SVC\n",
    "from sklearn.ensemble import RandomForestClassifier\n",
    "from mlxtend.classifier import EnsembleVoteClassifier\n",
    "from mlxtend.plotting import plot_decision_regions"
   ]
  },
  {
   "cell_type": "code",
   "execution_count": 107,
   "id": "24f87ed9",
   "metadata": {},
   "outputs": [],
   "source": [
    "import warnings\n",
    "warnings.filterwarnings(\"ignore\", category=DeprecationWarning)"
   ]
  },
  {
   "cell_type": "code",
   "execution_count": 108,
   "id": "7deee054",
   "metadata": {},
   "outputs": [],
   "source": [
    "from sklearn.preprocessing import LabelEncoder"
   ]
  },
  {
   "cell_type": "code",
   "execution_count": 109,
   "id": "7bf2eaef",
   "metadata": {},
   "outputs": [
    {
     "data": {
      "text/plain": [
       "Age                            0\n",
       "Gender                         0\n",
       "spotify_usage_period           0\n",
       "spotify_listening_device       0\n",
       "spotify_subscription_plan      0\n",
       "premium_sub_willingness        0\n",
       "preffered_premium_plan         0\n",
       "preferred_listening_content    0\n",
       "pod_lis_frequency              0\n",
       "fav_pod_genre                  0\n",
       "preffered_pod_format           0\n",
       "pod_host_preference            0\n",
       "preffered_pod_duration         0\n",
       "pod_variety_satisfaction       0\n",
       "dtype: int64"
      ]
     },
     "execution_count": 109,
     "metadata": {},
     "output_type": "execute_result"
    }
   ],
   "source": [
    "#checking for NA values\n",
    "pod_user_data.isna().sum()"
   ]
  },
  {
   "cell_type": "code",
   "execution_count": 110,
   "id": "141301cb",
   "metadata": {},
   "outputs": [],
   "source": [
    "user_data=pd.read_csv('/Users/christina/Desktop/Data Career/User_Behavior/Spotify_User_Behavior.csv')\n",
    "pod_user_data = pd.concat([user_data.iloc[:, :8], user_data.iloc[:, -6:]],axis=1)\n",
    "pod_user_data.describe()\n",
    "\n",
    "category_mask= pod_user_data.dtypes==object\n",
    "category_columns = pod_user_data.columns[category_mask].tolist()\n",
    "#one hot decoding (label encoder)\n",
    "pod_user_data_oh=pd.DataFrame()\n",
    "label_mappings = {}\n",
    "for col in category_columns:\n",
    "    le = LabelEncoder()\n",
    "    pod_user_data_oh[col] = le.fit_transform(pod_user_data[col])\n",
    "    label_mappings[col] = dict(zip(le.classes_, range(len(le.classes_))))\n",
    "#label_mappings"
   ]
  },
  {
   "cell_type": "code",
   "execution_count": 111,
   "id": "9e637458",
   "metadata": {},
   "outputs": [
    {
     "name": "stdout",
     "output_type": "stream",
     "text": [
      "['Age', 'Gender', 'spotify_usage_period', 'spotify_listening_device', 'spotify_subscription_plan', 'premium_sub_willingness', 'preffered_premium_plan', 'preferred_listening_content', 'pod_lis_frequency', 'fav_pod_genre', 'preffered_pod_format', 'pod_host_preference', 'preffered_pod_duration', 'pod_variety_satisfaction']\n"
     ]
    }
   ],
   "source": [
    "print(category_columns)"
   ]
  },
  {
   "cell_type": "code",
   "execution_count": 112,
   "id": "85d361b1",
   "metadata": {
    "scrolled": true
   },
   "outputs": [
    {
     "data": {
      "text/plain": [
       "{'Dissatisfied': 0,\n",
       " 'Ok': 1,\n",
       " 'Satisfied': 2,\n",
       " 'Very Dissatisfied': 3,\n",
       " 'Very Satisfied': 4}"
      ]
     },
     "execution_count": 112,
     "metadata": {},
     "output_type": "execute_result"
    }
   ],
   "source": [
    "label_mappings['pod_variety_satisfaction']"
   ]
  },
  {
   "cell_type": "code",
   "execution_count": 113,
   "id": "3394f1de",
   "metadata": {},
   "outputs": [],
   "source": [
    "from sklearn.feature_extraction import DictVectorizer"
   ]
  },
  {
   "cell_type": "code",
   "execution_count": 114,
   "id": "f7c64670",
   "metadata": {},
   "outputs": [],
   "source": [
    "pod_user_data_dict = pod_user_data.to_dict(\"records\")\n",
    "dv = DictVectorizer(sparse=False)\n",
    "pod_user_data_dict_encoded = dv.fit_transform(pod_user_data_dict)"
   ]
  },
  {
   "cell_type": "code",
   "execution_count": 115,
   "id": "500f408b",
   "metadata": {},
   "outputs": [
    {
     "data": {
      "text/plain": [
       "array([[0., 1., 0., ..., 0., 0., 1.],\n",
       "       [1., 0., 0., ..., 0., 0., 1.],\n",
       "       [0., 0., 1., ..., 1., 0., 0.],\n",
       "       ...,\n",
       "       [0., 1., 0., ..., 0., 0., 1.],\n",
       "       [0., 1., 0., ..., 1., 0., 0.],\n",
       "       [0., 1., 0., ..., 0., 0., 1.]])"
      ]
     },
     "execution_count": 115,
     "metadata": {},
     "output_type": "execute_result"
    }
   ],
   "source": [
    "# Print the resulting first five rows\n",
    "pod_user_data_dict_encoded"
   ]
  },
  {
   "cell_type": "code",
   "execution_count": 116,
   "id": "f99f2648",
   "metadata": {},
   "outputs": [],
   "source": [
    "#print(dv.vocabulary_)"
   ]
  },
  {
   "cell_type": "markdown",
   "id": "33eb2a94",
   "metadata": {},
   "source": [
    "# Model Selection"
   ]
  },
  {
   "cell_type": "code",
   "execution_count": 121,
   "id": "baed05b4",
   "metadata": {},
   "outputs": [],
   "source": [
    "X= pod_user_data_oh.drop(\"pod_variety_satisfaction\", axis=1).values\n",
    "y= pod_user_data_oh[\"pod_variety_satisfaction\"].values"
   ]
  },
  {
   "cell_type": "code",
   "execution_count": 122,
   "id": "398bea06",
   "metadata": {},
   "outputs": [],
   "source": [
    "X_train, X_test, y_train, y_test= train_test_split(X,y, test_size= 0.2, random_state=42, stratify=y)"
   ]
  },
  {
   "cell_type": "code",
   "execution_count": 123,
   "id": "cdafe8fc",
   "metadata": {},
   "outputs": [],
   "source": [
    "import matplotlib.pyplot as plt\n",
    "from sklearn.preprocessing import StandardScaler\n",
    "from sklearn.neighbors import KNeighborsClassifier\n",
    "from sklearn.linear_model import LogisticRegression\n",
    "from sklearn.tree import DecisionTreeClassifier"
   ]
  },
  {
   "cell_type": "code",
   "execution_count": 124,
   "id": "776b04a9",
   "metadata": {},
   "outputs": [
    {
     "name": "stderr",
     "output_type": "stream",
     "text": [
      "/Users/christina/opt/anaconda3/lib/python3.8/site-packages/sklearn/linear_model/_logistic.py:460: ConvergenceWarning: lbfgs failed to converge (status=1):\n",
      "STOP: TOTAL NO. of ITERATIONS REACHED LIMIT.\n",
      "\n",
      "Increase the number of iterations (max_iter) or scale the data as shown in:\n",
      "    https://scikit-learn.org/stable/modules/preprocessing.html\n",
      "Please also refer to the documentation for alternative solver options:\n",
      "    https://scikit-learn.org/stable/modules/linear_model.html#logistic-regression\n",
      "  n_iter_i = _check_optimize_result(\n",
      "/Users/christina/opt/anaconda3/lib/python3.8/site-packages/sklearn/linear_model/_logistic.py:460: ConvergenceWarning: lbfgs failed to converge (status=1):\n",
      "STOP: TOTAL NO. of ITERATIONS REACHED LIMIT.\n",
      "\n",
      "Increase the number of iterations (max_iter) or scale the data as shown in:\n",
      "    https://scikit-learn.org/stable/modules/preprocessing.html\n",
      "Please also refer to the documentation for alternative solver options:\n",
      "    https://scikit-learn.org/stable/modules/linear_model.html#logistic-regression\n",
      "  n_iter_i = _check_optimize_result(\n",
      "/Users/christina/opt/anaconda3/lib/python3.8/site-packages/sklearn/linear_model/_logistic.py:460: ConvergenceWarning: lbfgs failed to converge (status=1):\n",
      "STOP: TOTAL NO. of ITERATIONS REACHED LIMIT.\n",
      "\n",
      "Increase the number of iterations (max_iter) or scale the data as shown in:\n",
      "    https://scikit-learn.org/stable/modules/preprocessing.html\n",
      "Please also refer to the documentation for alternative solver options:\n",
      "    https://scikit-learn.org/stable/modules/linear_model.html#logistic-regression\n",
      "  n_iter_i = _check_optimize_result(\n",
      "/Users/christina/opt/anaconda3/lib/python3.8/site-packages/sklearn/linear_model/_logistic.py:460: ConvergenceWarning: lbfgs failed to converge (status=1):\n",
      "STOP: TOTAL NO. of ITERATIONS REACHED LIMIT.\n",
      "\n",
      "Increase the number of iterations (max_iter) or scale the data as shown in:\n",
      "    https://scikit-learn.org/stable/modules/preprocessing.html\n",
      "Please also refer to the documentation for alternative solver options:\n",
      "    https://scikit-learn.org/stable/modules/linear_model.html#logistic-regression\n",
      "  n_iter_i = _check_optimize_result(\n",
      "/Users/christina/opt/anaconda3/lib/python3.8/site-packages/sklearn/linear_model/_logistic.py:460: ConvergenceWarning: lbfgs failed to converge (status=1):\n",
      "STOP: TOTAL NO. of ITERATIONS REACHED LIMIT.\n",
      "\n",
      "Increase the number of iterations (max_iter) or scale the data as shown in:\n",
      "    https://scikit-learn.org/stable/modules/preprocessing.html\n",
      "Please also refer to the documentation for alternative solver options:\n",
      "    https://scikit-learn.org/stable/modules/linear_model.html#logistic-regression\n",
      "  n_iter_i = _check_optimize_result(\n"
     ]
    }
   ],
   "source": [
    "models={\n",
    "  \"Logistic Regression\": LogisticRegression(), \n",
    "  \"KNN\": KNeighborsClassifier(),\n",
    "  \"Decision Tree\": DecisionTreeClassifier()\n",
    "}\n",
    "training_result=[]\n",
    "\n",
    "for model in models.values():\n",
    "    kf= KFold(n_splits=5, random_state=42, shuffle=True)\n",
    "    cv_result=cross_val_score(model, X_train, y_train, cv=kf)\n",
    "    training_result.append(cv_result)"
   ]
  },
  {
   "cell_type": "code",
   "execution_count": 125,
   "id": "accf3fb6",
   "metadata": {},
   "outputs": [
    {
     "data": {
      "image/png": "[encoded data removed]",
      "text/plain": [
       "<Figure size 432x288 with 1 Axes>"
      ]
     },
     "metadata": {
      "needs_background": "light"
     },
     "output_type": "display_data"
    }
   ],
   "source": [
    "plt.boxplot(training_result, labels=models.keys())\n",
    "plt.show()"
   ]
  },
  {
   "cell_type": "code",
   "execution_count": 128,
   "id": "5d36ddcc",
   "metadata": {},
   "outputs": [],
   "source": [
    "from sklearn.linear_model import LogisticRegression\n",
    "from sklearn.model_selection import cross_val_score\n",
    "from sklearn.metrics import classification_report, confusion_matrix\n"
   ]
  },
  {
   "cell_type": "code",
   "execution_count": 127,
   "id": "c1e46524",
   "metadata": {},
   "outputs": [
    {
     "name": "stdout",
     "output_type": "stream",
     "text": [
      "0.5192307692307693\n"
     ]
    },
    {
     "name": "stderr",
     "output_type": "stream",
     "text": [
      "/Users/christina/opt/anaconda3/lib/python3.8/site-packages/sklearn/linear_model/_logistic.py:460: ConvergenceWarning: lbfgs failed to converge (status=1):\n",
      "STOP: TOTAL NO. of ITERATIONS REACHED LIMIT.\n",
      "\n",
      "Increase the number of iterations (max_iter) or scale the data as shown in:\n",
      "    https://scikit-learn.org/stable/modules/preprocessing.html\n",
      "Please also refer to the documentation for alternative solver options:\n",
      "    https://scikit-learn.org/stable/modules/linear_model.html#logistic-regression\n",
      "  n_iter_i = _check_optimize_result(\n",
      "/Users/christina/opt/anaconda3/lib/python3.8/site-packages/sklearn/linear_model/_logistic.py:460: ConvergenceWarning: lbfgs failed to converge (status=1):\n",
      "STOP: TOTAL NO. of ITERATIONS REACHED LIMIT.\n",
      "\n",
      "Increase the number of iterations (max_iter) or scale the data as shown in:\n",
      "    https://scikit-learn.org/stable/modules/preprocessing.html\n",
      "Please also refer to the documentation for alternative solver options:\n",
      "    https://scikit-learn.org/stable/modules/linear_model.html#logistic-regression\n",
      "  n_iter_i = _check_optimize_result(\n",
      "/Users/christina/opt/anaconda3/lib/python3.8/site-packages/sklearn/linear_model/_logistic.py:460: ConvergenceWarning: lbfgs failed to converge (status=1):\n",
      "STOP: TOTAL NO. of ITERATIONS REACHED LIMIT.\n",
      "\n",
      "Increase the number of iterations (max_iter) or scale the data as shown in:\n",
      "    https://scikit-learn.org/stable/modules/preprocessing.html\n",
      "Please also refer to the documentation for alternative solver options:\n",
      "    https://scikit-learn.org/stable/modules/linear_model.html#logistic-regression\n",
      "  n_iter_i = _check_optimize_result(\n",
      "/Users/christina/opt/anaconda3/lib/python3.8/site-packages/sklearn/linear_model/_logistic.py:460: ConvergenceWarning: lbfgs failed to converge (status=1):\n",
      "STOP: TOTAL NO. of ITERATIONS REACHED LIMIT.\n",
      "\n",
      "Increase the number of iterations (max_iter) or scale the data as shown in:\n",
      "    https://scikit-learn.org/stable/modules/preprocessing.html\n",
      "Please also refer to the documentation for alternative solver options:\n",
      "    https://scikit-learn.org/stable/modules/linear_model.html#logistic-regression\n",
      "  n_iter_i = _check_optimize_result(\n",
      "/Users/christina/opt/anaconda3/lib/python3.8/site-packages/sklearn/linear_model/_logistic.py:460: ConvergenceWarning: lbfgs failed to converge (status=1):\n",
      "STOP: TOTAL NO. of ITERATIONS REACHED LIMIT.\n",
      "\n",
      "Increase the number of iterations (max_iter) or scale the data as shown in:\n",
      "    https://scikit-learn.org/stable/modules/preprocessing.html\n",
      "Please also refer to the documentation for alternative solver options:\n",
      "    https://scikit-learn.org/stable/modules/linear_model.html#logistic-regression\n",
      "  n_iter_i = _check_optimize_result(\n",
      "/Users/christina/opt/anaconda3/lib/python3.8/site-packages/sklearn/linear_model/_logistic.py:460: ConvergenceWarning: lbfgs failed to converge (status=1):\n",
      "STOP: TOTAL NO. of ITERATIONS REACHED LIMIT.\n",
      "\n",
      "Increase the number of iterations (max_iter) or scale the data as shown in:\n",
      "    https://scikit-learn.org/stable/modules/preprocessing.html\n",
      "Please also refer to the documentation for alternative solver options:\n",
      "    https://scikit-learn.org/stable/modules/linear_model.html#logistic-regression\n",
      "  n_iter_i = _check_optimize_result(\n"
     ]
    }
   ],
   "source": [
    "logreg = LogisticRegression()\n",
    "logreg_cv = cross_val_score(logreg, X_train, y_train, cv=kf, scoring=\"neg_mean_squared_error\")\n",
    "logreg.fit(X_train, y_train)  # Fit the model to the training data\n",
    "pred = logreg.predict(X_test)\n",
    "print(logreg.score(X_test, y_test))  # Compute accuracy using the test data"
   ]
  },
  {
   "cell_type": "code",
   "execution_count": 129,
   "id": "f0d0bcb9",
   "metadata": {},
   "outputs": [
    {
     "name": "stdout",
     "output_type": "stream",
     "text": [
      "[[ 0  2  2  0  0]\n",
      " [ 0 43 13  0  0]\n",
      " [ 0 19 11  0  2]\n",
      " [ 0  2  0  0  0]\n",
      " [ 0  4  6  0  0]]\n",
      "              precision    recall  f1-score   support\n",
      "\n",
      "           0       0.00      0.00      0.00         4\n",
      "           1       0.61      0.77      0.68        56\n",
      "           2       0.34      0.34      0.34        32\n",
      "           3       0.00      0.00      0.00         2\n",
      "           4       0.00      0.00      0.00        10\n",
      "\n",
      "    accuracy                           0.52       104\n",
      "   macro avg       0.19      0.22      0.21       104\n",
      "weighted avg       0.44      0.52      0.47       104\n",
      "\n"
     ]
    },
    {
     "name": "stderr",
     "output_type": "stream",
     "text": [
      "/Users/christina/opt/anaconda3/lib/python3.8/site-packages/sklearn/metrics/_classification.py:1471: UndefinedMetricWarning: Precision and F-score are ill-defined and being set to 0.0 in labels with no predicted samples. Use `zero_division` parameter to control this behavior.\n",
      "  _warn_prf(average, modifier, msg_start, len(result))\n",
      "/Users/christina/opt/anaconda3/lib/python3.8/site-packages/sklearn/metrics/_classification.py:1471: UndefinedMetricWarning: Precision and F-score are ill-defined and being set to 0.0 in labels with no predicted samples. Use `zero_division` parameter to control this behavior.\n",
      "  _warn_prf(average, modifier, msg_start, len(result))\n",
      "/Users/christina/opt/anaconda3/lib/python3.8/site-packages/sklearn/metrics/_classification.py:1471: UndefinedMetricWarning: Precision and F-score are ill-defined and being set to 0.0 in labels with no predicted samples. Use `zero_division` parameter to control this behavior.\n",
      "  _warn_prf(average, modifier, msg_start, len(result))\n"
     ]
    }
   ],
   "source": [
    "print(confusion_matrix(y_test, pred))\n",
    "print(classification_report(y_test, pred))"
   ]
  },
  {
   "cell_type": "code",
   "execution_count": 130,
   "id": "e9a252d0",
   "metadata": {},
   "outputs": [],
   "source": [
    "from sklearn.metrics import mean_squared_error"
   ]
  },
  {
   "cell_type": "code",
   "execution_count": 131,
   "id": "fa83196e",
   "metadata": {},
   "outputs": [
    {
     "name": "stdout",
     "output_type": "stream",
     "text": [
      "R^2: 0.5192307692307693\n",
      "RMSE: 1.0651832633943252\n"
     ]
    }
   ],
   "source": [
    "# Compute RMSE\n",
    "r_squared = logreg.score(X_test, y_test)\n",
    "rmse = mean_squared_error(y_test, pred, squared=False)\n",
    "\n",
    "# Print the metrics\n",
    "print(\"R^2: {}\".format(r_squared))\n",
    "print(\"RMSE: {}\".format(rmse))"
   ]
  },
  {
   "cell_type": "markdown",
   "id": "8e5f9151",
   "metadata": {},
   "source": [
    "# XGBoosts"
   ]
  },
  {
   "cell_type": "code",
   "execution_count": 133,
   "id": "8feab43c",
   "metadata": {},
   "outputs": [],
   "source": [
    "import xgboost as xgb"
   ]
  },
  {
   "cell_type": "code",
   "execution_count": 202,
   "id": "6db8fd4d",
   "metadata": {},
   "outputs": [
    {
     "name": "stdout",
     "output_type": "stream",
     "text": [
      "Accuracy: 0.480769\n"
     ]
    }
   ],
   "source": [
    "#optimal data structure created by XGB- DMatrix\n",
    "pod_dmatrix= xgb.DMatrix(data= X,label= y)\n",
    "#create cross validation parameters dict\n",
    "param= {\"objective\": \"multi:softmax\", \n",
    "        \"max_depth\":10, \n",
    "        \"num_class\": len(set(y))}\n",
    "#call cross validation\n",
    "# Call cross-validation\n",
    "cv_results = xgb.cv(\n",
    "    dtrain=pod_dmatrix,\n",
    "    params=param,\n",
    "    nfold=10,  # Number of validation folds\n",
    "    num_boost_round=100,  # Number of trees we want to build\n",
    "    metrics=\"merror\",  # The metric we want to compute (multi-class error rate)\n",
    "    as_pandas=True  # Output stored as pd.DataFrame\n",
    ")\n",
    "\n",
    "# Print Accuracy\n",
    "accuracy = 1 - cv_results[\"test-merror-mean\"].iloc[-1]\n",
    "print(\"Accuracy: %f\" % accuracy)"
   ]
  },
  {
   "cell_type": "markdown",
   "id": "d4365308",
   "metadata": {},
   "source": [
    "## PCA"
   ]
  },
  {
   "cell_type": "code",
   "execution_count": 142,
   "id": "86a28fdb",
   "metadata": {},
   "outputs": [],
   "source": [
    "from sklearn.decomposition import PCA"
   ]
  },
  {
   "cell_type": "code",
   "execution_count": 144,
   "id": "31fd2f5c",
   "metadata": {},
   "outputs": [
    {
     "data": {
      "image/png": "[encoded data removed]",
      "text/plain": [
       "<Figure size 432x288 with 1 Axes>"
      ]
     },
     "metadata": {
      "needs_background": "light"
     },
     "output_type": "display_data"
    }
   ],
   "source": [
    "pca= PCA()\n",
    "pca.fit(X)\n",
    "\n",
    "# Plot the explained variances\n",
    "features = range(pca.n_components_)\n",
    "plt.bar(features, pca.explained_variance_)\n",
    "plt.xlabel('PCA feature')\n",
    "plt.ylabel('variance')\n",
    "plt.xticks(features)\n",
    "plt.show()\n"
   ]
  },
  {
   "cell_type": "code",
   "execution_count": 208,
   "id": "02dc4ff4",
   "metadata": {},
   "outputs": [],
   "source": [
    "#elbow\n",
    "n_component=7\n",
    "pca = PCA(n_components=n_component)\n",
    "X_pca = pca.fit_transform(X)"
   ]
  },
  {
   "cell_type": "code",
   "execution_count": 163,
   "id": "c2cd838d",
   "metadata": {},
   "outputs": [],
   "source": [
    "names=pod_user_data_oh.drop(\"pod_variety_satisfaction\", axis=1).columns.tolist()"
   ]
  },
  {
   "cell_type": "code",
   "execution_count": 219,
   "id": "9fd85775",
   "metadata": {
    "scrolled": true
   },
   "outputs": [
    {
     "data": {
      "text/html": [
       "<div>\n",
       "<style scoped>\n",
       "    .dataframe tbody tr th:only-of-type {\n",
       "        vertical-align: middle;\n",
       "    }\n",
       "\n",
       "    .dataframe tbody tr th {\n",
       "        vertical-align: top;\n",
       "    }\n",
       "\n",
       "    .dataframe thead th {\n",
       "        text-align: right;\n",
       "    }\n",
       "</style>\n",
       "<table border=\"1\" class=\"dataframe\">\n",
       "  <thead>\n",
       "    <tr style=\"text-align: right;\">\n",
       "      <th></th>\n",
       "      <th>Age</th>\n",
       "      <th>Gender</th>\n",
       "      <th>spotify_usage_period</th>\n",
       "      <th>spotify_listening_device</th>\n",
       "      <th>spotify_subscription_plan</th>\n",
       "      <th>premium_sub_willingness</th>\n",
       "      <th>preffered_premium_plan</th>\n",
       "      <th>preferred_listening_content</th>\n",
       "      <th>pod_lis_frequency</th>\n",
       "      <th>fav_pod_genre</th>\n",
       "      <th>preffered_pod_format</th>\n",
       "      <th>pod_host_preference</th>\n",
       "      <th>preffered_pod_duration</th>\n",
       "      <th>pod_variety_satisfaction</th>\n",
       "    </tr>\n",
       "  </thead>\n",
       "  <tbody>\n",
       "    <tr>\n",
       "      <th>count</th>\n",
       "      <td>520</td>\n",
       "      <td>520</td>\n",
       "      <td>520</td>\n",
       "      <td>520</td>\n",
       "      <td>520</td>\n",
       "      <td>520</td>\n",
       "      <td>520</td>\n",
       "      <td>520</td>\n",
       "      <td>520</td>\n",
       "      <td>520</td>\n",
       "      <td>520</td>\n",
       "      <td>520</td>\n",
       "      <td>520</td>\n",
       "      <td>520</td>\n",
       "    </tr>\n",
       "    <tr>\n",
       "      <th>unique</th>\n",
       "      <td>5</td>\n",
       "      <td>3</td>\n",
       "      <td>4</td>\n",
       "      <td>15</td>\n",
       "      <td>2</td>\n",
       "      <td>2</td>\n",
       "      <td>5</td>\n",
       "      <td>2</td>\n",
       "      <td>5</td>\n",
       "      <td>20</td>\n",
       "      <td>5</td>\n",
       "      <td>4</td>\n",
       "      <td>4</td>\n",
       "      <td>5</td>\n",
       "    </tr>\n",
       "    <tr>\n",
       "      <th>top</th>\n",
       "      <td>20-35</td>\n",
       "      <td>Female</td>\n",
       "      <td>More than 2 years</td>\n",
       "      <td>Smartphone</td>\n",
       "      <td>Free (ad-supported)</td>\n",
       "      <td>No</td>\n",
       "      <td>None</td>\n",
       "      <td>Music</td>\n",
       "      <td>Rarely</td>\n",
       "      <td>None</td>\n",
       "      <td>Story telling</td>\n",
       "      <td>Both</td>\n",
       "      <td>Shorter</td>\n",
       "      <td>Ok</td>\n",
       "    </tr>\n",
       "    <tr>\n",
       "      <th>freq</th>\n",
       "      <td>422</td>\n",
       "      <td>391</td>\n",
       "      <td>169</td>\n",
       "      <td>300</td>\n",
       "      <td>424</td>\n",
       "      <td>334</td>\n",
       "      <td>208</td>\n",
       "      <td>410</td>\n",
       "      <td>201</td>\n",
       "      <td>148</td>\n",
       "      <td>152</td>\n",
       "      <td>180</td>\n",
       "      <td>191</td>\n",
       "      <td>280</td>\n",
       "    </tr>\n",
       "  </tbody>\n",
       "</table>\n",
       "</div>"
      ],
      "text/plain": [
       "          Age  Gender  ... preffered_pod_duration pod_variety_satisfaction\n",
       "count     520     520  ...                    520                      520\n",
       "unique      5       3  ...                      4                        5\n",
       "top     20-35  Female  ...                Shorter                       Ok\n",
       "freq      422     391  ...                    191                      280\n",
       "\n",
       "[4 rows x 14 columns]"
      ]
     },
     "execution_count": 219,
     "metadata": {},
     "output_type": "execute_result"
    }
   ],
   "source": [
    "pod_user_data.describe()"
   ]
  },
  {
   "cell_type": "markdown",
   "id": "8bbad675",
   "metadata": {},
   "source": [
    "## Feature Selection"
   ]
  },
  {
   "cell_type": "code",
   "execution_count": null,
   "id": "857103a7",
   "metadata": {},
   "outputs": [],
   "source": [
    "from sklearn.linear_model import Lasso"
   ]
  },
  {
   "cell_type": "code",
   "execution_count": 172,
   "id": "c8210be6",
   "metadata": {},
   "outputs": [
    {
     "name": "stdout",
     "output_type": "stream",
     "text": [
      "0.001 [-8.18936053e-02  1.60581710e-01  8.01580638e-03  7.37069570e-03\n",
      "  1.39607329e-01  2.80068205e-01  5.27065965e-02  8.15062945e-02\n",
      "  7.99521828e-02 -1.97244168e-02 -3.84472514e-02  1.63679579e-04\n",
      "  7.45932818e-03]\n"
     ]
    },
    {
     "data": {
      "image/png": "[encoded data removed]",
      "text/plain": [
       "<Figure size 432x288 with 1 Axes>"
      ]
     },
     "metadata": {
      "needs_background": "light"
     },
     "output_type": "display_data"
    },
    {
     "name": "stdout",
     "output_type": "stream",
     "text": [
      "0.01 [-0.04329584  0.1277265   0.00076959  0.00351189  0.08827515  0.25487051\n",
      "  0.03778877  0.01135186  0.07710017 -0.0192276  -0.0341402  -0.\n",
      " -0.        ]\n"
     ]
    },
    {
     "data": {
      "image/png": "[encoded data removed]",
      "text/plain": [
       "<Figure size 432x288 with 1 Axes>"
      ]
     },
     "metadata": {
      "needs_background": "light"
     },
     "output_type": "display_data"
    },
    {
     "name": "stdout",
     "output_type": "stream",
     "text": [
      "0.1 [-0.          0.          0.         -0.          0.          0.\n",
      " -0.          0.          0.0139107  -0.01760715 -0.          0.\n",
      " -0.        ]\n"
     ]
    },
    {
     "data": {
      "image/png": "[encoded data removed]",
      "text/plain": [
       "<Figure size 432x288 with 1 Axes>"
      ]
     },
     "metadata": {
      "needs_background": "light"
     },
     "output_type": "display_data"
    },
    {
     "name": "stdout",
     "output_type": "stream",
     "text": [
      "1.0 [-0.  0.  0. -0.  0.  0. -0.  0.  0. -0. -0. -0. -0.]\n"
     ]
    },
    {
     "data": {
      "image/png": "[encoded data removed]",
      "text/plain": [
       "<Figure size 432x288 with 1 Axes>"
      ]
     },
     "metadata": {
      "needs_background": "light"
     },
     "output_type": "display_data"
    }
   ],
   "source": [
    "alphas = [0.001, 0.01, 0.1, 1.0]\n",
    "ridge_scores = []\n",
    "for alpha in alphas:\n",
    "    lasso= Lasso(alpha=alpha)\n",
    "    lasso_coef= lasso.fit(X,y).coef_\n",
    "    print(alpha, lasso_coef)\n",
    "    plt.bar(names, lasso_coef)\n",
    "    plt.xticks(rotation=90)\n",
    "    plt.show()"
   ]
  },
  {
   "cell_type": "code",
   "execution_count": 250,
   "id": "7a6599c2",
   "metadata": {},
   "outputs": [],
   "source": [
    "dropping_cols=['spotify_usage_period','spotify_listening_device','pod_host_preference','preffered_pod_duration',\"pod_variety_satisfaction\"]\n",
    "selecting_cols=['pod_lis_frequency', 'fav_pod_genre']"
   ]
  },
  {
   "cell_type": "code",
   "execution_count": 230,
   "id": "4a70c062",
   "metadata": {},
   "outputs": [],
   "source": [
    "#try1\n",
    "X_selected= pod_user_data_oh.drop(dropping_cols, axis=1).values\n",
    "y= pod_user_data_oh[\"pod_variety_satisfaction\"].values"
   ]
  },
  {
   "cell_type": "code",
   "execution_count": 253,
   "id": "37de08c8",
   "metadata": {},
   "outputs": [],
   "source": [
    "#try2\n",
    "X_selected_2features= pod_user_data_oh[selecting_cols].values\n",
    "y= pod_user_data_oh[\"pod_variety_satisfaction\"].values"
   ]
  },
  {
   "cell_type": "markdown",
   "id": "e1c6877a",
   "metadata": {},
   "source": [
    "### Try1"
   ]
  },
  {
   "cell_type": "code",
   "execution_count": 232,
   "id": "1f0b0b24",
   "metadata": {},
   "outputs": [],
   "source": [
    "#elbow\n",
    "n_component=7\n",
    "pca = PCA(n_components=n_component)\n",
    "X_pca_selected = pca.fit_transform(X_selected)"
   ]
  },
  {
   "cell_type": "code",
   "execution_count": 233,
   "id": "d60a1fcd",
   "metadata": {},
   "outputs": [
    {
     "name": "stdout",
     "output_type": "stream",
     "text": [
      "Accuracy with PCA: 0.513462\n"
     ]
    }
   ],
   "source": [
    "# Train XGBoost model with PCA-transformed features\n",
    "pod_dmatrix = xgb.DMatrix(data=X_pca_selected, label=y)\n",
    "param = {\n",
    "    \"objective\": \"multi:softmax\",\n",
    "    \"max_depth\": 4,\n",
    "    \"num_class\": len(set(y))\n",
    "}\n",
    "rmses_l1=[]\n",
    "l1_param = [0.001, 0.01, 0.1, 1.0]\n",
    "for alpha in l1_param:\n",
    "    param['alpha']= alpha \n",
    "    cv_results = xgb.cv(\n",
    "        dtrain=pod_dmatrix,\n",
    "        params=param,\n",
    "        nfold=4,\n",
    "        num_boost_round=10,\n",
    "        metrics=\"merror\",\n",
    "        as_pandas=True\n",
    "    )\n",
    "    rmses_l1.append(cv_results[\"test-merror-mean\"].tail().values[0])\n",
    "\n",
    "# Print accuracy\n",
    "accuracy = 1 - cv_results[\"test-merror-mean\"].iloc[-1]\n",
    "print(\"Accuracy with PCA: %f\" % accuracy)\n",
    "\n",
    "# Train XGBoost model with ridge regularization\n",
    "# Use the original feature matrix X or apply PCA if desired\n"
   ]
  },
  {
   "cell_type": "code",
   "execution_count": 234,
   "id": "e590798f",
   "metadata": {},
   "outputs": [],
   "source": [
    "X_train, X_test, y_train, y_test= train_test_split(X_pca_selected,y, test_size= 0.2, random_state=42, stratify=y)"
   ]
  },
  {
   "cell_type": "markdown",
   "id": "1a08e3d0",
   "metadata": {},
   "source": [
    "### Try2"
   ]
  },
  {
   "cell_type": "code",
   "execution_count": 256,
   "id": "cb146090",
   "metadata": {},
   "outputs": [
    {
     "data": {
      "image/png": "[encoded data removed]",
      "text/plain": [
       "<Figure size 432x288 with 1 Axes>"
      ]
     },
     "metadata": {
      "needs_background": "light"
     },
     "output_type": "display_data"
    }
   ],
   "source": [
    "pca= PCA()\n",
    "pca.fit(X_selected_2features)\n",
    "\n",
    "# Plot the explained variances\n",
    "features = range(pca.n_components_)\n",
    "plt.bar(features, pca.explained_variance_)\n",
    "plt.xlabel('PCA feature')\n",
    "plt.ylabel('variance')\n",
    "plt.xticks(features)\n",
    "plt.show()\n",
    "X_train, X_test, y_train, y_test= train_test_split(X_selected_2features,y, test_size= 0.2, random_state=42, stratify=y)"
   ]
  },
  {
   "cell_type": "code",
   "execution_count": 257,
   "id": "75fb6dbf",
   "metadata": {},
   "outputs": [],
   "source": [
    "#elbow\n",
    "pca = PCA(n_components=2)\n",
    "X_pca_selected_2 = pca.fit_transform(X_selected_2features)"
   ]
  },
  {
   "cell_type": "code",
   "execution_count": 258,
   "id": "c3894ba5",
   "metadata": {},
   "outputs": [
    {
     "name": "stdout",
     "output_type": "stream",
     "text": [
      "Accuracy with PCA: 0.538462\n"
     ]
    }
   ],
   "source": [
    "# Train XGBoost model with PCA-transformed features\n",
    "pod_dmatrix = xgb.DMatrix(data=X_pca_selected_2, label=y)\n",
    "param = {\n",
    "    \"objective\": \"multi:softmax\",\n",
    "    \"max_depth\": 4,\n",
    "    \"num_class\": len(set(y))\n",
    "}\n",
    "rmses_l1=[]\n",
    "l1_param = [0.001, 0.01, 0.1, 1.0]\n",
    "for alpha in l1_param:\n",
    "    param['alpha']= alpha \n",
    "    cv_results = xgb.cv(\n",
    "        dtrain=pod_dmatrix,\n",
    "        params=param,\n",
    "        nfold=4,\n",
    "        num_boost_round=10,\n",
    "        metrics=\"merror\",\n",
    "        as_pandas=True\n",
    "    )\n",
    "    rmses_l1.append(cv_results[\"test-merror-mean\"].tail().values[0])\n",
    "\n",
    "# Print accuracy\n",
    "accuracy = 1 - cv_results[\"test-merror-mean\"].iloc[-1]\n",
    "print(\"Accuracy with PCA: %f\" % accuracy)\n",
    "\n",
    "# Train XGBoost model with ridge regularization\n",
    "# Use the original feature matrix X or apply PCA if desired\n"
   ]
  },
  {
   "cell_type": "code",
   "execution_count": 259,
   "id": "b743bbc0",
   "metadata": {},
   "outputs": [
    {
     "name": "stdout",
     "output_type": "stream",
     "text": [
      "Best Params:\n",
      "ETA: 0.2, Subsample: 0.75\n",
      "Lowest Mean MError: 0.4442307692307692\n",
      "Accuracy with PCA and Optimized Params: 0.5557692307692308\n"
     ]
    }
   ],
   "source": [
    "\n",
    "# 假設X_pca和y已經準備好並處理過\n",
    "pod_dmatrix = xgb.DMatrix(data=X_pca_selected_2, label=y)\n",
    "param = {\n",
    "    \"objective\": \"multi:softmax\",\n",
    "    \"max_depth\": 10,\n",
    "    \"num_class\": len(set(y)),\n",
    "    \"alpha\": 0.1  # 初始設置，可根據需求調整\n",
    "}\n",
    "\n",
    "# 擴展參數列表以包括eta和subsample\n",
    "etas = [0.01, 0.1, 0.2]\n",
    "subs = [0.5, 0.75, 1]\n",
    "\n",
    "best_params = None\n",
    "min_error = float(\"inf\")  # 初始化最小錯誤率為無限大\n",
    "for eta in etas:\n",
    "    for sub in subs:\n",
    "        param['eta'] = eta\n",
    "        param['subsample'] = sub\n",
    "        cv_results = xgb.cv(\n",
    "            dtrain=pod_dmatrix,\n",
    "            params=param,\n",
    "            nfold=4,\n",
    "            num_boost_round=100,  # 增加迭代次數以觀察長期表現\n",
    "            metrics=\"merror\",\n",
    "            as_pandas=True,\n",
    "            early_stopping_rounds=10  # 添加早停以防過擬合\n",
    "        )\n",
    "        mean_merror = cv_results[\"test-merror-mean\"].min()\n",
    "        if mean_merror < min_error:\n",
    "            min_error = mean_merror\n",
    "            best_params = (eta, sub)\n",
    "\n",
    "# 最優化的參數\n",
    "print(f\"Best Params:\\nETA: {best_params[0]}, Subsample: {best_params[1]}\")\n",
    "print(f\"Lowest Mean MError: {min_error}\")\n",
    "\n",
    "# 計算並列印最佳參數下的準確率\n",
    "accuracy = 1 - min_error\n",
    "print(f\"Accuracy with PCA and Optimized Params: {accuracy}\")\n"
   ]
  },
  {
   "cell_type": "code",
   "execution_count": 260,
   "id": "e20600fb",
   "metadata": {},
   "outputs": [],
   "source": [
    "model= xgb.XGBClassifier()\n",
    "model.fit(X_train, y_train)\n",
    "pred= model.predict(X_test)"
   ]
  },
  {
   "cell_type": "code",
   "execution_count": 261,
   "id": "2eca4d29",
   "metadata": {},
   "outputs": [
    {
     "name": "stdout",
     "output_type": "stream",
     "text": [
      "0.5153846153846153\n"
     ]
    }
   ],
   "source": [
    "kfold= KFold(n_splits=5, random_state=42, shuffle=True)\n",
    "results=cross_val_score(model, X_pca_selected_2, y, cv=kfold)\n",
    "print(results.mean())"
   ]
  },
  {
   "cell_type": "code",
   "execution_count": 262,
   "id": "f7963a5d",
   "metadata": {},
   "outputs": [],
   "source": [
    "from sklearn.metrics import accuracy_score\n",
    "accuracy= accuracy_score(y_test, pred)"
   ]
  },
  {
   "cell_type": "code",
   "execution_count": 263,
   "id": "6e69fcc3",
   "metadata": {},
   "outputs": [
    {
     "data": {
      "text/plain": [
       "0.5769230769230769"
      ]
     },
     "execution_count": 263,
     "metadata": {},
     "output_type": "execute_result"
    }
   ],
   "source": [
    "accuracy"
   ]
  },
  {
   "cell_type": "markdown",
   "id": "d9125b32",
   "metadata": {},
   "source": [
    "### Hyper parameter Tuning"
   ]
  },
  {
   "cell_type": "code",
   "execution_count": 235,
   "id": "38cf6f82",
   "metadata": {},
   "outputs": [
    {
     "name": "stdout",
     "output_type": "stream",
     "text": [
      "Best Params:\n",
      "ETA: 0.01, Subsample: 0.5\n",
      "Lowest Mean MError: 0.48269230769230764\n",
      "Accuracy with PCA and Optimized Params: 0.5173076923076924\n"
     ]
    }
   ],
   "source": [
    "\n",
    "# 假設X_pca和y已經準備好並處理過\n",
    "pod_dmatrix = xgb.DMatrix(data=X_pca, label=y)\n",
    "param = {\n",
    "    \"objective\": \"multi:softmax\",\n",
    "    \"max_depth\": 10,\n",
    "    \"num_class\": len(set(y)),\n",
    "    \"alpha\": 0.1  # 初始設置，可根據需求調整\n",
    "}\n",
    "\n",
    "# 擴展參數列表以包括eta和subsample\n",
    "etas = [0.01, 0.1, 0.2]\n",
    "subs = [0.5, 0.75, 1]\n",
    "\n",
    "best_params = None\n",
    "min_error = float(\"inf\")  # 初始化最小錯誤率為無限大\n",
    "for eta in etas:\n",
    "    for sub in subs:\n",
    "        param['eta'] = eta\n",
    "        param['subsample'] = sub\n",
    "        cv_results = xgb.cv(\n",
    "            dtrain=pod_dmatrix,\n",
    "            params=param,\n",
    "            nfold=4,\n",
    "            num_boost_round=100,  # 增加迭代次數以觀察長期表現\n",
    "            metrics=\"merror\",\n",
    "            as_pandas=True,\n",
    "            early_stopping_rounds=10  # 添加早停以防過擬合\n",
    "        )\n",
    "        mean_merror = cv_results[\"test-merror-mean\"].min()\n",
    "        if mean_merror < min_error:\n",
    "            min_error = mean_merror\n",
    "            best_params = (eta, sub)\n",
    "\n",
    "# 最優化的參數\n",
    "print(f\"Best Params:\\nETA: {best_params[0]}, Subsample: {best_params[1]}\")\n",
    "print(f\"Lowest Mean MError: {min_error}\")\n",
    "\n",
    "# 計算並列印最佳參數下的準確率\n",
    "accuracy = 1 - min_error\n",
    "print(f\"Accuracy with PCA and Optimized Params: {accuracy}\")\n"
   ]
  },
  {
   "cell_type": "code",
   "execution_count": 237,
   "id": "3dd02126",
   "metadata": {},
   "outputs": [],
   "source": [
    "model= xgb.XGBClassifier()\n",
    "model.fit(X_train, y_train)\n",
    "pred= model.predict(X_test)"
   ]
  },
  {
   "cell_type": "code",
   "execution_count": 239,
   "id": "50dbd1b5",
   "metadata": {},
   "outputs": [
    {
     "name": "stdout",
     "output_type": "stream",
     "text": [
      "0.5173076923076924\n"
     ]
    }
   ],
   "source": [
    "kfold= KFold(n_splits=5, random_state=42, shuffle=True)\n",
    "results=cross_val_score(model, X_pca_selected, y, cv=kfold)\n",
    "print(results.mean())"
   ]
  },
  {
   "cell_type": "code",
   "execution_count": 189,
   "id": "40fa268e",
   "metadata": {},
   "outputs": [
    {
     "name": "stdout",
     "output_type": "stream",
     "text": [
      "0.4461538461538462\n"
     ]
    }
   ],
   "source": [
    "kfold= KFold(n_splits=5, random_state=42, shuffle=True)\n",
    "results=cross_val_score(model, X_pca, y, cv=kfold)\n",
    "print(results.mean())"
   ]
  },
  {
   "cell_type": "code",
   "execution_count": 240,
   "id": "d2f15999",
   "metadata": {},
   "outputs": [],
   "source": [
    "from sklearn.metrics import accuracy_score\n",
    "accuracy= accuracy_score(y_test, pred)"
   ]
  },
  {
   "cell_type": "code",
   "execution_count": 242,
   "id": "290334ef",
   "metadata": {},
   "outputs": [
    {
     "data": {
      "text/plain": [
       "0.5576923076923077"
      ]
     },
     "execution_count": 242,
     "metadata": {},
     "output_type": "execute_result"
    }
   ],
   "source": [
    "accuracy #no over-fitting generalizability preserved"
   ]
  },
  {
   "cell_type": "code",
   "execution_count": 188,
   "id": "3bf1b449",
   "metadata": {},
   "outputs": [
    {
     "data": {
      "text/plain": [
       "0.4230769230769231"
      ]
     },
     "execution_count": 188,
     "metadata": {},
     "output_type": "execute_result"
    }
   ],
   "source": [
    "accuracy"
   ]
  },
  {
   "cell_type": "code",
   "execution_count": null,
   "id": "fe958aa4",
   "metadata": {},
   "outputs": [],
   "source": []
  },
  {
   "cell_type": "code",
   "execution_count": null,
   "id": "b1f1efe0",
   "metadata": {},
   "outputs": [],
   "source": []
  },
  {
   "cell_type": "markdown",
   "id": "43df1e09",
   "metadata": {},
   "source": [
    "## Feature Selections"
   ]
  },
  {
   "cell_type": "code",
   "execution_count": null,
   "id": "09b90538",
   "metadata": {},
   "outputs": [],
   "source": []
  }
 ],
 "metadata": {
  "kernelspec": {
   "display_name": "Python 3",
   "language": "python",
   "name": "python3"
  },
  "language_info": {
   "codemirror_mode": {
    "name": "ipython",
    "version": 3
   },
   "file_extension": ".py",
   "mimetype": "text/x-python",
   "name": "python",
   "nbconvert_exporter": "python",
   "pygments_lexer": "ipython3",
   "version": "3.8.8"
  },
  "toc": {
   "base_numbering": 1,
   "nav_menu": {},
   "number_sections": true,
   "sideBar": true,
   "skip_h1_title": false,
   "title_cell": "Table of Contents",
   "title_sidebar": "Contents",
   "toc_cell": false,
   "toc_position": {},
   "toc_section_display": true,
   "toc_window_display": false
  },
  "varInspector": {
   "cols": {
    "lenName": 16,
    "lenType": 16,
    "lenVar": 40
   },
   "kernels_config": {
    "python": {
     "delete_cmd_postfix": "",
     "delete_cmd_prefix": "del ",
     "library": "var_list.py",
     "varRefreshCmd": "print(var_dic_list())"
    },
    "r": {
     "delete_cmd_postfix": ") ",
     "delete_cmd_prefix": "rm(",
     "library": "var_list.r",
     "varRefreshCmd": "cat(var_dic_list()) "
    }
   },
   "types_to_exclude": [
    "module",
    "function",
    "builtin_function_or_method",
    "instance",
    "_Feature"
   ],
   "window_display": false
  }
 },
 "nbformat": 4,
 "nbformat_minor": 5
}
