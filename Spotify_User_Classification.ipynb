{
 "cells": [
  {
   "cell_type": "code",
   "execution_count": 106,
   "id": "17f9fde8",
   "metadata": {},
   "outputs": [],
   "source": [
    "import pandas as pd\n",
    "import numpy as np\n",
    "import os \n",
    "import matplotlib.pyplot as plt\n",
    "import copy\n",
    "import seaborn as sns\n",
    "from sklearn.cluster import KMeans\n",
    "from sklearn.model_selection import train_test_split\n",
    "from sklearn.linear_model import LogisticRegression, LinearRegression\n",
    "from sklearn.metrics import mean_squared_error\n",
    "from sklearn.model_selection import cross_val_score, KFold\n",
    "from sklearn.metrics import confusion_matrix\n",
    "from mlxtend.frequent_patterns import apriori\n",
    "from mlxtend.frequent_patterns import association_rules\n",
    "from sklearn.metrics import accuracy_score\n",
    "import matplotlib.gridspec as gridspec\n",
    "import itertools\n",
    "from sklearn.svm import SVC\n",
    "from sklearn.ensemble import RandomForestClassifier\n",
    "from mlxtend.classifier import EnsembleVoteClassifier\n",
    "from mlxtend.plotting import plot_decision_regions\n",
    "from xgboost import XGBClassifier\n",
    "from sklearn.preprocessing import LabelEncoder"
   ]
  },
  {
   "cell_type": "code",
   "execution_count": 107,
   "id": "24f87ed9",
   "metadata": {},
   "outputs": [],
   "source": [
    "import warnings\n",
    "warnings.filterwarnings(\"ignore\", category=DeprecationWarning)"
   ]
  },
  {
   "cell_type": "code",
   "execution_count": 363,
   "id": "3b2bf889",
   "metadata": {
    "scrolled": false
   },
   "outputs": [],
   "source": [
    "user_data=pd.read_csv('/Users/christina/Desktop/Data Career/User_Behavior/Spotify_User_Behavior.csv')"
   ]
  },
  {
   "cell_type": "code",
   "execution_count": 109,
   "id": "7bf2eaef",
   "metadata": {
    "scrolled": true
   },
   "outputs": [
    {
     "data": {
      "text/plain": [
       "Age                            0\n",
       "Gender                         0\n",
       "spotify_usage_period           0\n",
       "spotify_listening_device       0\n",
       "spotify_subscription_plan      0\n",
       "premium_sub_willingness        0\n",
       "preffered_premium_plan         0\n",
       "preferred_listening_content    0\n",
       "pod_lis_frequency              0\n",
       "fav_pod_genre                  0\n",
       "preffered_pod_format           0\n",
       "pod_host_preference            0\n",
       "preffered_pod_duration         0\n",
       "pod_variety_satisfaction       0\n",
       "dtype: int64"
      ]
     },
     "execution_count": 109,
     "metadata": {},
     "output_type": "execute_result"
    }
   ],
   "source": [
    "#checking for NA values\n",
    "pod_user_data.isna().sum()"
   ]
  },
  {
   "cell_type": "markdown",
   "id": "d5bd1ee1",
   "metadata": {},
   "source": [
    "# EDA"
   ]
  },
  {
   "cell_type": "markdown",
   "id": "410c0bb6",
   "metadata": {},
   "source": [
    "key findings for EDA in words here (abstract)"
   ]
  },
  {
   "cell_type": "markdown",
   "id": "86d81a61",
   "metadata": {},
   "source": [
    "Analyzed product usage patterns <br>\n",
    "content preferences <br>\n",
    "usage scenarios and time <br>\n",
    "\n",
    "inform focused strategic product development. "
   ]
  },
  {
   "cell_type": "code",
   "execution_count": 364,
   "id": "484c067d",
   "metadata": {},
   "outputs": [
    {
     "data": {
      "text/html": [
       "<div>\n",
       "<style scoped>\n",
       "    .dataframe tbody tr th:only-of-type {\n",
       "        vertical-align: middle;\n",
       "    }\n",
       "\n",
       "    .dataframe tbody tr th {\n",
       "        vertical-align: top;\n",
       "    }\n",
       "\n",
       "    .dataframe thead th {\n",
       "        text-align: right;\n",
       "    }\n",
       "</style>\n",
       "<table border=\"1\" class=\"dataframe\">\n",
       "  <thead>\n",
       "    <tr style=\"text-align: right;\">\n",
       "      <th></th>\n",
       "      <th>Age</th>\n",
       "      <th>Gender</th>\n",
       "      <th>spotify_usage_period</th>\n",
       "      <th>spotify_listening_device</th>\n",
       "      <th>spotify_subscription_plan</th>\n",
       "      <th>premium_sub_willingness</th>\n",
       "      <th>preffered_premium_plan</th>\n",
       "      <th>preferred_listening_content</th>\n",
       "      <th>fav_music_genre</th>\n",
       "      <th>music_time_slot</th>\n",
       "      <th>music_Influencial_mood</th>\n",
       "      <th>music_lis_frequency</th>\n",
       "      <th>music_expl_method</th>\n",
       "      <th>music_recc_rating</th>\n",
       "      <th>pod_lis_frequency</th>\n",
       "      <th>fav_pod_genre</th>\n",
       "      <th>preffered_pod_format</th>\n",
       "      <th>pod_host_preference</th>\n",
       "      <th>preffered_pod_duration</th>\n",
       "      <th>pod_variety_satisfaction</th>\n",
       "    </tr>\n",
       "  </thead>\n",
       "  <tbody>\n",
       "    <tr>\n",
       "      <th>0</th>\n",
       "      <td>20-35</td>\n",
       "      <td>Female</td>\n",
       "      <td>More than 2 years</td>\n",
       "      <td>Smart speakers or voice assistants</td>\n",
       "      <td>Free (ad-supported)</td>\n",
       "      <td>Yes</td>\n",
       "      <td>Family Plan-Rs 179/month</td>\n",
       "      <td>Podcast</td>\n",
       "      <td>Melody</td>\n",
       "      <td>Night</td>\n",
       "      <td>Sadness or melancholy</td>\n",
       "      <td>leisure time</td>\n",
       "      <td>Playlists</td>\n",
       "      <td>3</td>\n",
       "      <td>Daily</td>\n",
       "      <td>Comedy</td>\n",
       "      <td>Interview</td>\n",
       "      <td>Both</td>\n",
       "      <td>Both</td>\n",
       "      <td>Ok</td>\n",
       "    </tr>\n",
       "    <tr>\n",
       "      <th>1</th>\n",
       "      <td>12-20</td>\n",
       "      <td>Male</td>\n",
       "      <td>More than 2 years</td>\n",
       "      <td>Computer or laptop</td>\n",
       "      <td>Free (ad-supported)</td>\n",
       "      <td>Yes</td>\n",
       "      <td>Individual Plan- Rs 119/ month</td>\n",
       "      <td>Podcast</td>\n",
       "      <td>Rap</td>\n",
       "      <td>Afternoon</td>\n",
       "      <td>Social gatherings or parties</td>\n",
       "      <td>Workout session</td>\n",
       "      <td>Playlists</td>\n",
       "      <td>2</td>\n",
       "      <td>Several times a week</td>\n",
       "      <td>Comedy</td>\n",
       "      <td>Interview</td>\n",
       "      <td>Both</td>\n",
       "      <td>None</td>\n",
       "      <td>Satisfied</td>\n",
       "    </tr>\n",
       "    <tr>\n",
       "      <th>2</th>\n",
       "      <td>35-60</td>\n",
       "      <td>Others</td>\n",
       "      <td>6 months to 1 year</td>\n",
       "      <td>Smart speakers or voice assistants</td>\n",
       "      <td>Free (ad-supported)</td>\n",
       "      <td>Yes</td>\n",
       "      <td>Student Plan-Rs 59/month</td>\n",
       "      <td>Podcast</td>\n",
       "      <td>Pop</td>\n",
       "      <td>Night</td>\n",
       "      <td>Relaxation and stress relief</td>\n",
       "      <td>Study Hours, While Traveling</td>\n",
       "      <td>Playlists</td>\n",
       "      <td>4</td>\n",
       "      <td>Once a week</td>\n",
       "      <td>Sports</td>\n",
       "      <td>Interview</td>\n",
       "      <td>None</td>\n",
       "      <td>Both</td>\n",
       "      <td>Satisfied</td>\n",
       "    </tr>\n",
       "    <tr>\n",
       "      <th>3</th>\n",
       "      <td>20-35</td>\n",
       "      <td>Female</td>\n",
       "      <td>1 year to 2 years</td>\n",
       "      <td>Smartphone, Smart speakers or voice assistants</td>\n",
       "      <td>Free (ad-supported)</td>\n",
       "      <td>No</td>\n",
       "      <td>None</td>\n",
       "      <td>Music</td>\n",
       "      <td>Melody</td>\n",
       "      <td>Night</td>\n",
       "      <td>Relaxation and stress relief, Social gathering...</td>\n",
       "      <td>Office hours, Workout session, leisure time</td>\n",
       "      <td>recommendations, Playlists</td>\n",
       "      <td>4</td>\n",
       "      <td>Never</td>\n",
       "      <td>None</td>\n",
       "      <td>None</td>\n",
       "      <td>None</td>\n",
       "      <td>None</td>\n",
       "      <td>Ok</td>\n",
       "    </tr>\n",
       "    <tr>\n",
       "      <th>4</th>\n",
       "      <td>20-35</td>\n",
       "      <td>Female</td>\n",
       "      <td>1 year to 2 years</td>\n",
       "      <td>Smartphone</td>\n",
       "      <td>Free (ad-supported)</td>\n",
       "      <td>No</td>\n",
       "      <td>None</td>\n",
       "      <td>Music</td>\n",
       "      <td>Melody</td>\n",
       "      <td>Night</td>\n",
       "      <td>Relaxation and stress relief</td>\n",
       "      <td>leisure time</td>\n",
       "      <td>recommendations, Playlists</td>\n",
       "      <td>4</td>\n",
       "      <td>Rarely</td>\n",
       "      <td>Lifestyle and Health</td>\n",
       "      <td>Story telling</td>\n",
       "      <td>Well known individuals</td>\n",
       "      <td>Both</td>\n",
       "      <td>Ok</td>\n",
       "    </tr>\n",
       "  </tbody>\n",
       "</table>\n",
       "</div>"
      ],
      "text/plain": [
       "     Age  Gender  ... preffered_pod_duration pod_variety_satisfaction\n",
       "0  20-35  Female  ...                   Both                       Ok\n",
       "1  12-20    Male  ...                   None                Satisfied\n",
       "2  35-60  Others  ...                   Both                Satisfied\n",
       "3  20-35  Female  ...                   None                       Ok\n",
       "4  20-35  Female  ...                   Both                       Ok\n",
       "\n",
       "[5 rows x 20 columns]"
      ]
     },
     "execution_count": 364,
     "metadata": {},
     "output_type": "execute_result"
    }
   ],
   "source": [
    "user_data.head()"
   ]
  },
  {
   "cell_type": "code",
   "execution_count": 367,
   "id": "b85eb1b6",
   "metadata": {},
   "outputs": [
    {
     "data": {
      "text/plain": [
       "<AxesSubplot:xlabel='spotify_subscription_plan', ylabel='count'>"
      ]
     },
     "execution_count": 367,
     "metadata": {},
     "output_type": "execute_result"
    },
    {
     "data": {
      "image/png": "[encoded data removed]",
      "text/plain": [
       "<Figure size 432x288 with 1 Axes>"
      ]
     },
     "metadata": {
      "needs_background": "light"
     },
     "output_type": "display_data"
    }
   ],
   "source": [
    "\n",
    "sns.countplot(x='spotify_subscription_plan',data=user_data,hue='spotify_usage_period')"
   ]
  },
  {
   "cell_type": "code",
   "execution_count": null,
   "id": "07ae33e4",
   "metadata": {},
   "outputs": [],
   "source": []
  },
  {
   "cell_type": "markdown",
   "id": "14f7ed17",
   "metadata": {},
   "source": [
    "# Statistical Test- "
   ]
  },
  {
   "cell_type": "code",
   "execution_count": null,
   "id": "5fea1fa7",
   "metadata": {},
   "outputs": [],
   "source": [
    "## can be used for later feature selection"
   ]
  },
  {
   "cell_type": "code",
   "execution_count": null,
   "id": "394a7d96",
   "metadata": {},
   "outputs": [],
   "source": []
  },
  {
   "cell_type": "code",
   "execution_count": null,
   "id": "ad3bc552",
   "metadata": {},
   "outputs": [],
   "source": []
  },
  {
   "cell_type": "markdown",
   "id": "001d7f5d",
   "metadata": {},
   "source": [
    "# Modelling"
   ]
  },
  {
   "cell_type": "markdown",
   "id": "df813e5f",
   "metadata": {},
   "source": [
    "<b> Preprocessing- One Hot Coding"
   ]
  },
  {
   "cell_type": "code",
   "execution_count": 348,
   "id": "93d580d3",
   "metadata": {},
   "outputs": [],
   "source": [
    "category_mask= user_data.dtypes==object\n",
    "category_columns = user_data.columns[category_mask].tolist()\n",
    "#one hot decoding (label encoder)\n",
    "all_user_data_oh=pd.DataFrame()\n",
    "label_mappings = {}\n",
    "for col in category_columns:\n",
    "    le = LabelEncoder()\n",
    "    all_user_data_oh[col] = le.fit_transform(user_data[col])\n",
    "    label_mappings[col] = dict(zip(le.classes_, range(len(le.classes_))))\n",
    "#label_mappings"
   ]
  },
  {
   "cell_type": "code",
   "execution_count": 350,
   "id": "5f7d2305",
   "metadata": {
    "scrolled": false
   },
   "outputs": [
    {
     "data": {
      "text/plain": [
       "{'No': 0, 'Yes': 1}"
      ]
     },
     "execution_count": 350,
     "metadata": {},
     "output_type": "execute_result"
    }
   ],
   "source": [
    "label_mappings['premium_sub_willingness']"
   ]
  },
  {
   "cell_type": "code",
   "execution_count": 347,
   "id": "1b6a266d",
   "metadata": {},
   "outputs": [
    {
     "data": {
      "text/html": [
       "<div>\n",
       "<style scoped>\n",
       "    .dataframe tbody tr th:only-of-type {\n",
       "        vertical-align: middle;\n",
       "    }\n",
       "\n",
       "    .dataframe tbody tr th {\n",
       "        vertical-align: top;\n",
       "    }\n",
       "\n",
       "    .dataframe thead th {\n",
       "        text-align: right;\n",
       "    }\n",
       "</style>\n",
       "<table border=\"1\" class=\"dataframe\">\n",
       "  <thead>\n",
       "    <tr style=\"text-align: right;\">\n",
       "      <th></th>\n",
       "      <th>Age</th>\n",
       "      <th>Gender</th>\n",
       "      <th>spotify_usage_period</th>\n",
       "      <th>spotify_listening_device</th>\n",
       "      <th>spotify_subscription_plan</th>\n",
       "      <th>premium_sub_willingness</th>\n",
       "      <th>preffered_premium_plan</th>\n",
       "      <th>preferred_listening_content</th>\n",
       "      <th>fav_music_genre</th>\n",
       "      <th>music_time_slot</th>\n",
       "      <th>music_Influencial_mood</th>\n",
       "      <th>music_lis_frequency</th>\n",
       "      <th>music_expl_method</th>\n",
       "      <th>pod_lis_frequency</th>\n",
       "      <th>fav_pod_genre</th>\n",
       "      <th>preffered_pod_format</th>\n",
       "      <th>pod_host_preference</th>\n",
       "      <th>preffered_pod_duration</th>\n",
       "      <th>pod_variety_satisfaction</th>\n",
       "    </tr>\n",
       "  </thead>\n",
       "  <tbody>\n",
       "    <tr>\n",
       "      <th>count</th>\n",
       "      <td>520.000000</td>\n",
       "      <td>520.000000</td>\n",
       "      <td>520.000000</td>\n",
       "      <td>520.000000</td>\n",
       "      <td>520.000000</td>\n",
       "      <td>520.000000</td>\n",
       "      <td>520.000000</td>\n",
       "      <td>520.000000</td>\n",
       "      <td>520.000000</td>\n",
       "      <td>520.000000</td>\n",
       "      <td>520.000000</td>\n",
       "      <td>520.000000</td>\n",
       "      <td>520.000000</td>\n",
       "      <td>520.000000</td>\n",
       "      <td>520.000000</td>\n",
       "      <td>520.000000</td>\n",
       "      <td>520.00000</td>\n",
       "      <td>520.000000</td>\n",
       "      <td>520.000000</td>\n",
       "    </tr>\n",
       "    <tr>\n",
       "      <th>mean</th>\n",
       "      <td>0.925000</td>\n",
       "      <td>0.276923</td>\n",
       "      <td>1.553846</td>\n",
       "      <td>5.609615</td>\n",
       "      <td>0.184615</td>\n",
       "      <td>0.357692</td>\n",
       "      <td>2.363462</td>\n",
       "      <td>0.211538</td>\n",
       "      <td>5.398077</td>\n",
       "      <td>1.375000</td>\n",
       "      <td>4.309615</td>\n",
       "      <td>24.798077</td>\n",
       "      <td>8.109615</td>\n",
       "      <td>2.359615</td>\n",
       "      <td>8.942308</td>\n",
       "      <td>2.355769</td>\n",
       "      <td>1.20000</td>\n",
       "      <td>1.757692</td>\n",
       "      <td>1.588462</td>\n",
       "    </tr>\n",
       "    <tr>\n",
       "      <th>std</th>\n",
       "      <td>0.464698</td>\n",
       "      <td>0.508356</td>\n",
       "      <td>1.200909</td>\n",
       "      <td>2.791313</td>\n",
       "      <td>0.388359</td>\n",
       "      <td>0.479782</td>\n",
       "      <td>1.309742</td>\n",
       "      <td>0.408793</td>\n",
       "      <td>2.094399</td>\n",
       "      <td>0.828066</td>\n",
       "      <td>4.326099</td>\n",
       "      <td>9.416277</td>\n",
       "      <td>4.552150</td>\n",
       "      <td>1.124051</td>\n",
       "      <td>4.873006</td>\n",
       "      <td>1.489321</td>\n",
       "      <td>1.08697</td>\n",
       "      <td>1.170831</td>\n",
       "      <td>0.955595</td>\n",
       "    </tr>\n",
       "    <tr>\n",
       "      <th>min</th>\n",
       "      <td>0.000000</td>\n",
       "      <td>0.000000</td>\n",
       "      <td>0.000000</td>\n",
       "      <td>0.000000</td>\n",
       "      <td>0.000000</td>\n",
       "      <td>0.000000</td>\n",
       "      <td>0.000000</td>\n",
       "      <td>0.000000</td>\n",
       "      <td>0.000000</td>\n",
       "      <td>0.000000</td>\n",
       "      <td>0.000000</td>\n",
       "      <td>0.000000</td>\n",
       "      <td>0.000000</td>\n",
       "      <td>0.000000</td>\n",
       "      <td>0.000000</td>\n",
       "      <td>0.000000</td>\n",
       "      <td>0.00000</td>\n",
       "      <td>0.000000</td>\n",
       "      <td>0.000000</td>\n",
       "    </tr>\n",
       "    <tr>\n",
       "      <th>25%</th>\n",
       "      <td>1.000000</td>\n",
       "      <td>0.000000</td>\n",
       "      <td>0.000000</td>\n",
       "      <td>6.000000</td>\n",
       "      <td>0.000000</td>\n",
       "      <td>0.000000</td>\n",
       "      <td>2.000000</td>\n",
       "      <td>0.000000</td>\n",
       "      <td>4.000000</td>\n",
       "      <td>1.000000</td>\n",
       "      <td>0.000000</td>\n",
       "      <td>22.000000</td>\n",
       "      <td>4.000000</td>\n",
       "      <td>1.000000</td>\n",
       "      <td>6.000000</td>\n",
       "      <td>1.000000</td>\n",
       "      <td>0.00000</td>\n",
       "      <td>1.000000</td>\n",
       "      <td>1.000000</td>\n",
       "    </tr>\n",
       "    <tr>\n",
       "      <th>50%</th>\n",
       "      <td>1.000000</td>\n",
       "      <td>0.000000</td>\n",
       "      <td>1.500000</td>\n",
       "      <td>6.000000</td>\n",
       "      <td>0.000000</td>\n",
       "      <td>0.000000</td>\n",
       "      <td>3.000000</td>\n",
       "      <td>0.000000</td>\n",
       "      <td>4.000000</td>\n",
       "      <td>2.000000</td>\n",
       "      <td>4.000000</td>\n",
       "      <td>26.000000</td>\n",
       "      <td>9.000000</td>\n",
       "      <td>3.000000</td>\n",
       "      <td>10.000000</td>\n",
       "      <td>3.000000</td>\n",
       "      <td>1.00000</td>\n",
       "      <td>2.000000</td>\n",
       "      <td>1.000000</td>\n",
       "    </tr>\n",
       "    <tr>\n",
       "      <th>75%</th>\n",
       "      <td>1.000000</td>\n",
       "      <td>0.000000</td>\n",
       "      <td>3.000000</td>\n",
       "      <td>6.000000</td>\n",
       "      <td>0.000000</td>\n",
       "      <td>1.000000</td>\n",
       "      <td>3.000000</td>\n",
       "      <td>0.000000</td>\n",
       "      <td>7.000000</td>\n",
       "      <td>2.000000</td>\n",
       "      <td>8.000000</td>\n",
       "      <td>31.000000</td>\n",
       "      <td>12.250000</td>\n",
       "      <td>3.000000</td>\n",
       "      <td>12.000000</td>\n",
       "      <td>4.000000</td>\n",
       "      <td>2.00000</td>\n",
       "      <td>3.000000</td>\n",
       "      <td>2.000000</td>\n",
       "    </tr>\n",
       "    <tr>\n",
       "      <th>max</th>\n",
       "      <td>4.000000</td>\n",
       "      <td>2.000000</td>\n",
       "      <td>3.000000</td>\n",
       "      <td>14.000000</td>\n",
       "      <td>1.000000</td>\n",
       "      <td>1.000000</td>\n",
       "      <td>4.000000</td>\n",
       "      <td>1.000000</td>\n",
       "      <td>10.000000</td>\n",
       "      <td>2.000000</td>\n",
       "      <td>14.000000</td>\n",
       "      <td>34.000000</td>\n",
       "      <td>19.000000</td>\n",
       "      <td>4.000000</td>\n",
       "      <td>19.000000</td>\n",
       "      <td>4.000000</td>\n",
       "      <td>3.00000</td>\n",
       "      <td>3.000000</td>\n",
       "      <td>4.000000</td>\n",
       "    </tr>\n",
       "  </tbody>\n",
       "</table>\n",
       "</div>"
      ],
      "text/plain": [
       "              Age      Gender  ...  preffered_pod_duration  pod_variety_satisfaction\n",
       "count  520.000000  520.000000  ...              520.000000                520.000000\n",
       "mean     0.925000    0.276923  ...                1.757692                  1.588462\n",
       "std      0.464698    0.508356  ...                1.170831                  0.955595\n",
       "min      0.000000    0.000000  ...                0.000000                  0.000000\n",
       "25%      1.000000    0.000000  ...                1.000000                  1.000000\n",
       "50%      1.000000    0.000000  ...                2.000000                  1.000000\n",
       "75%      1.000000    0.000000  ...                3.000000                  2.000000\n",
       "max      4.000000    2.000000  ...                3.000000                  4.000000\n",
       "\n",
       "[8 rows x 19 columns]"
      ]
     },
     "execution_count": 347,
     "metadata": {},
     "output_type": "execute_result"
    }
   ],
   "source": [
    "all_user_data_oh.describe()"
   ]
  },
  {
   "cell_type": "markdown",
   "id": "42506d79",
   "metadata": {},
   "source": [
    "## Subscription Willingness Classification"
   ]
  },
  {
   "cell_type": "code",
   "execution_count": 351,
   "id": "9251d9ca",
   "metadata": {},
   "outputs": [],
   "source": [
    "X= all_user_data_oh.drop(\"premium_sub_willingness\", axis=1).values\n",
    "y= all_user_data_oh[\"premium_sub_willingness\"].values"
   ]
  },
  {
   "cell_type": "code",
   "execution_count": 352,
   "id": "ce610829",
   "metadata": {},
   "outputs": [],
   "source": [
    "X_train, X_test, y_train, y_test= train_test_split(X,y, test_size= 0.2, random_state=42, stratify=y)"
   ]
  },
  {
   "cell_type": "markdown",
   "id": "6fef957f",
   "metadata": {},
   "source": [
    "<b> Feature Selection (Linear model- Lasso)"
   ]
  },
  {
   "cell_type": "code",
   "execution_count": 353,
   "id": "72827802",
   "metadata": {},
   "outputs": [],
   "source": [
    "names=all_user_data_oh.drop(\"premium_sub_willingness\", axis=1).columns.tolist()"
   ]
  },
  {
   "cell_type": "code",
   "execution_count": 354,
   "id": "0c15adcf",
   "metadata": {},
   "outputs": [
    {
     "name": "stdout",
     "output_type": "stream",
     "text": [
      "0.001 [-5.65518191e-02  1.33943045e-02  6.31898039e-03 -6.22941979e-03\n",
      "  3.34439971e-01 -9.80892579e-02  1.46723378e-01 -1.08432783e-03\n",
      "  6.39764537e-03  1.49958166e-03 -5.35714772e-04  9.37531108e-03\n",
      " -2.57502373e-02 -1.97033388e-03 -3.55618268e-03 -1.03412093e-02\n",
      "  1.43363132e-04  5.29459048e-02]\n"
     ]
    },
    {
     "data": {
      "image/png": "[encoded data removed]",
      "text/plain": [
       "<Figure size 432x288 with 1 Axes>"
      ]
     },
     "metadata": {
      "needs_background": "light"
     },
     "output_type": "display_data"
    },
    {
     "name": "stdout",
     "output_type": "stream",
     "text": [
      "0.01 [-1.74549735e-02  0.00000000e+00  0.00000000e+00 -5.79534023e-03\n",
      "  2.76589961e-01 -9.47437351e-02  7.06728598e-02  2.34557244e-03\n",
      " -0.00000000e+00  2.96174504e-03 -4.25684480e-04  9.28408763e-03\n",
      " -7.98282431e-03 -2.97351869e-04 -0.00000000e+00 -0.00000000e+00\n",
      " -2.71063604e-04  4.82463886e-02]\n"
     ]
    },
    {
     "data": {
      "image/png": "[encoded data removed]",
      "text/plain": [
       "<Figure size 432x288 with 1 Axes>"
      ]
     },
     "metadata": {
      "needs_background": "light"
     },
     "output_type": "display_data"
    },
    {
     "name": "stdout",
     "output_type": "stream",
     "text": [
      "0.1 [-0.          0.         -0.         -0.00338538  0.         -0.0668303\n",
      "  0.          0.         -0.          0.00981392 -0.00109083  0.00561223\n",
      "  0.          0.         -0.          0.         -0.          0.        ]\n"
     ]
    },
    {
     "data": {
      "image/png": "[encoded data removed]",
      "text/plain": [
       "<Figure size 432x288 with 1 Axes>"
      ]
     },
     "metadata": {
      "needs_background": "light"
     },
     "output_type": "display_data"
    },
    {
     "name": "stdout",
     "output_type": "stream",
     "text": [
      "1.0 [-0.  0. -0. -0.  0. -0.  0.  0. -0.  0. -0.  0.  0.  0.  0.  0. -0.  0.]\n"
     ]
    },
    {
     "data": {
      "image/png": "[encoded data removed]",
      "text/plain": [
       "<Figure size 432x288 with 1 Axes>"
      ]
     },
     "metadata": {
      "needs_background": "light"
     },
     "output_type": "display_data"
    }
   ],
   "source": [
    "alphas = [0.001, 0.01, 0.1, 1.0]\n",
    "ridge_scores = []\n",
    "for alpha in alphas:\n",
    "    lasso= Lasso(alpha=alpha)\n",
    "    lasso_coef= lasso.fit(X,y).coef_\n",
    "    print(alpha, lasso_coef)\n",
    "    plt.bar(names, lasso_coef)\n",
    "    plt.xticks(rotation=90)\n",
    "    plt.show()"
   ]
  },
  {
   "cell_type": "code",
   "execution_count": 355,
   "id": "501dfec1",
   "metadata": {},
   "outputs": [],
   "source": [
    "#alpha= 0.1, select the non-zero features\n",
    "sel_features=['Age','spotify_listening_device','spotify_subscription_plan','preffered_premium_plan',\n",
    "              'preferred_listening_content','fav_music_genre','music_Influencial_mood', 'music_expl_method',\n",
    "              'pod_lis_frequency', 'pod_variety_satisfaction']"
   ]
  },
  {
   "cell_type": "markdown",
   "id": "f48144c2",
   "metadata": {},
   "source": [
    "<b> set training and testing data"
   ]
  },
  {
   "cell_type": "code",
   "execution_count": 357,
   "id": "f6ab5274",
   "metadata": {},
   "outputs": [],
   "source": [
    "X_selected= all_user_data_oh[sel_features].values\n",
    "y= all_user_data_oh[\"premium_sub_willingness\"].values"
   ]
  },
  {
   "cell_type": "code",
   "execution_count": 359,
   "id": "7b4faef1",
   "metadata": {},
   "outputs": [],
   "source": [
    "names= all_user_data_oh[sel_features].columns.tolist()\n",
    "X_selected_df=pd.DataFrame(X_selected, columns=names)"
   ]
  },
  {
   "cell_type": "markdown",
   "id": "4b68bd8e",
   "metadata": {},
   "source": [
    "<b> train test split"
   ]
  },
  {
   "cell_type": "code",
   "execution_count": 360,
   "id": "e74d5133",
   "metadata": {},
   "outputs": [],
   "source": [
    "X_train, X_test, y_train, y_test= train_test_split(X_selected, y, test_size= 0.2, random_state=42, stratify=y)"
   ]
  },
  {
   "cell_type": "code",
   "execution_count": 362,
   "id": "b695f523",
   "metadata": {},
   "outputs": [
    {
     "name": "stdout",
     "output_type": "stream",
     "text": [
      "Accuracy with PCA: 0.796154\n"
     ]
    }
   ],
   "source": [
    "# selected feature XGBoost model\n",
    "alluser_dmatrix = xgb.DMatrix(data=X_selected, label=y)\n",
    "param = {\n",
    "    \"objective\": \"multi:softmax\",\n",
    "    \"max_depth\": 4,\n",
    "    \"num_class\": len(set(y))\n",
    "}\n",
    "rmses_l1=[]\n",
    "l1_param = [0.001, 0.01, 0.1, 1.0]\n",
    "for alpha in l1_param:\n",
    "    param['alpha']= alpha \n",
    "    cv_results = xgb.cv(\n",
    "        dtrain=alluser_dmatrix,\n",
    "        params=param,\n",
    "        nfold=4,\n",
    "        num_boost_round=10,\n",
    "        metrics=\"merror\",\n",
    "        as_pandas=True\n",
    "    )\n",
    "    rmses_l1.append(cv_results[\"test-merror-mean\"].tail().values[0])\n",
    "\n",
    "# Print accuracy\n",
    "accuracy = 1 - cv_results[\"test-merror-mean\"].iloc[-1]\n",
    "print(\"Accuracy with PCA: %f\" % accuracy)"
   ]
  },
  {
   "cell_type": "code",
   "execution_count": 339,
   "id": "d0a9e853",
   "metadata": {},
   "outputs": [
    {
     "name": "stdout",
     "output_type": "stream",
     "text": [
      "Fitting 4 folds for each of 25 candidates, totalling 100 fits\n",
      "Best Parameters: {'subsample': 0.9, 'max_depth': 6, 'eta': 0.05, 'alpha': 0}\n",
      "Best Score: 0.8293269230769231\n",
      "Accuracy on test set: 0.7307692307692307\n"
     ]
    }
   ],
   "source": [
    "model = XGBClassifier(\n",
    "    objective='multi:softmax',\n",
    "    num_class=len(set(y)),\n",
    "    eval_metric=\"merror\",\n",
    "    use_label_encoder=False \n",
    ")\n",
    "\n",
    "\n",
    "param_dist = {\n",
    "    'max_depth': [3, 4, 5, 6, 7, 8, 9, 10],\n",
    "    'eta': [0.01, 0.05, 0.1, 0.2, 0.3],\n",
    "    'subsample': [0.5, 0.6, 0.7, 0.8, 0.9, 1.0],\n",
    "    'alpha': [0, 0.1]\n",
    "}\n",
    "\n",
    "# set param for random_search\n",
    "random_search = RandomizedSearchCV(\n",
    "    estimator=model,\n",
    "    param_distributions=param_dist,\n",
    "    n_iter=25,  # general search\n",
    "    scoring='accuracy',  \n",
    "    n_jobs=-1,  #all CPU\n",
    "    cv=4,  \n",
    "    verbose=3,  \n",
    "    random_state=42\n",
    ")\n",
    "\n",
    "# RandomSearch\n",
    "random_search.fit(X_train, y_train)\n",
    "\n",
    "\n",
    "# get best model/performance param\n",
    "best_model = random_search.best_estimator_\n",
    "accuracy = best_model.score(X_test, y_test)\n",
    "print(\"Best Parameters:\", random_search.best_params_)\n",
    "print(\"Best Score:\", random_search.best_score_)\n",
    "print(f\"Accuracy on test set: {accuracy}\")"
   ]
  },
  {
   "cell_type": "code",
   "execution_count": 340,
   "id": "d223336d",
   "metadata": {},
   "outputs": [
    {
     "name": "stdout",
     "output_type": "stream",
     "text": [
      "Final accuracy:  0.7307692307692307\n"
     ]
    }
   ],
   "source": [
    "# get pred for the tunned model\n",
    "y_pred = best_model.predict(X_test)\n",
    "y_pred = np.round(y_pred).astype(int) #rounded\n",
    "\n",
    "#from sklearn.metrics import accuracy_score\n",
    "final_accuracy = accuracy_score(y_test, y_pred)\n",
    "print(\"Final accuracy: \", final_accuracy)"
   ]
  },
  {
   "cell_type": "markdown",
   "id": "0989aa88",
   "metadata": {},
   "source": [
    "## Performance Evaluation- Metrics"
   ]
  },
  {
   "cell_type": "code",
   "execution_count": 341,
   "id": "608be2b0",
   "metadata": {},
   "outputs": [
    {
     "name": "stdout",
     "output_type": "stream",
     "text": [
      "Confusion Matrix:\n",
      "[[49 18]\n",
      " [10 27]]\n"
     ]
    },
    {
     "data": {
      "image/png": "[encoded data removed]",
      "text/plain": [
       "<Figure size 720x504 with 2 Axes>"
      ]
     },
     "metadata": {
      "needs_background": "light"
     },
     "output_type": "display_data"
    },
    {
     "name": "stdout",
     "output_type": "stream",
     "text": [
      "              precision    recall  f1-score   support\n",
      "\n",
      "           0       0.83      0.73      0.78        67\n",
      "           1       0.60      0.73      0.66        37\n",
      "\n",
      "    accuracy                           0.73       104\n",
      "   macro avg       0.72      0.73      0.72       104\n",
      "weighted avg       0.75      0.73      0.74       104\n",
      "\n"
     ]
    }
   ],
   "source": [
    "# Confusion matrix\n",
    "conf_matrix = confusion_matrix(y_test, y_pred)\n",
    "print(f\"Confusion Matrix:\\n{conf_matrix}\")\n",
    "\n",
    "# classification report \n",
    "plt.figure(figsize=(10,7))\n",
    "sns.heatmap(conf_matrix, annot=True, fmt='g')\n",
    "plt.xlabel('Predicted')\n",
    "plt.ylabel('True')\n",
    "plt.title('Confusion Matrix')\n",
    "plt.show()\n",
    "\n",
    "# 分類報告\n",
    "print(classification_report(y_test, y_pred))"
   ]
  },
  {
   "cell_type": "markdown",
   "id": "39074599",
   "metadata": {},
   "source": [
    "## Model Evaluation- Important Features"
   ]
  },
  {
   "cell_type": "code",
   "execution_count": 345,
   "id": "869eec90",
   "metadata": {},
   "outputs": [
    {
     "name": "stderr",
     "output_type": "stream",
     "text": [
      "/Users/christina/opt/anaconda3/lib/python3.8/site-packages/xgboost/core.py:160: UserWarning: [23:35:24] WARNING: /Users/runner/work/xgboost/xgboost/src/objective/regression_obj.cu:209: reg:linear is now deprecated in favor of reg:squarederror.\n",
      "  warnings.warn(smsg, UserWarning)\n"
     ]
    },
    {
     "data": {
      "image/png": "[encoded data removed]",
      "text/plain": [
       "<Figure size 432x288 with 1 Axes>"
      ]
     },
     "metadata": {
      "needs_background": "light"
     },
     "output_type": "display_data"
    }
   ],
   "source": [
    "alluser_dmatrix = xgb.DMatrix(data=X_selected_df, label=y)\n",
    "\n",
    "# Create the parameter dictionary: params\n",
    "params = {\"objective\": \"reg:linear\",\n",
    "          \"max_depth\": 4}\n",
    "\n",
    "# Train the model: xg_reg\n",
    "xg_reg = xgb.train(params=params, dtrain=alluser_dmatrix)\n",
    "\n",
    "# Plot the feature importances\n",
    "xgb.plot_importance(xg_reg)\n",
    "plt.show()"
   ]
  },
  {
   "cell_type": "markdown",
   "id": "d4ce2120",
   "metadata": {},
   "source": [
    "## PCA"
   ]
  },
  {
   "cell_type": "code",
   "execution_count": 314,
   "id": "d2bbfefa",
   "metadata": {
    "scrolled": true
   },
   "outputs": [
    {
     "data": {
      "image/png": "[encoded data removed]",
      "text/plain": [
       "<Figure size 432x288 with 1 Axes>"
      ]
     },
     "metadata": {
      "needs_background": "light"
     },
     "output_type": "display_data"
    }
   ],
   "source": [
    "pca= PCA()\n",
    "pca.fit(X_selected)\n",
    "\n",
    "# Plot the explained variances\n",
    "features = range(pca.n_components_)\n",
    "plt.bar(features, pca.explained_variance_)\n",
    "plt.xlabel('PCA feature')\n",
    "plt.ylabel('variance')\n",
    "plt.xticks(features)\n",
    "plt.show()"
   ]
  },
  {
   "cell_type": "code",
   "execution_count": 316,
   "id": "7ad98155",
   "metadata": {},
   "outputs": [],
   "source": [
    "#elbow\n",
    "n_component=6\n",
    "pca = PCA(n_components=n_component)\n",
    "X_selected_pca = pca.fit_transform(X_selected)"
   ]
  },
  {
   "cell_type": "code",
   "execution_count": 318,
   "id": "79ea6805",
   "metadata": {},
   "outputs": [],
   "source": [
    "X_train, X_test, y_train, y_test= train_test_split(X_selected_pca, y, test_size= 0.2, random_state=42, stratify=y)"
   ]
  },
  {
   "cell_type": "code",
   "execution_count": 317,
   "id": "dd61a6b8",
   "metadata": {},
   "outputs": [
    {
     "name": "stdout",
     "output_type": "stream",
     "text": [
      "Accuracy with PCA: 0.696154\n"
     ]
    }
   ],
   "source": [
    "# Train XGBoost model with PCA-transformed features\n",
    "alluser_dmatrix = xgb.DMatrix(data=X_selected_pca, label=y)\n",
    "param = {\n",
    "    \"objective\": \"multi:softmax\",\n",
    "    \"max_depth\": 4,\n",
    "    \"num_class\": len(set(y))\n",
    "}\n",
    "rmses_l1=[]\n",
    "l1_param = [0.001, 0.01, 0.1, 1.0]\n",
    "for alpha in l1_param:\n",
    "    param['alpha']= alpha \n",
    "    cv_results = xgb.cv(\n",
    "        dtrain=alluser_dmatrix,\n",
    "        params=param,\n",
    "        nfold=4,\n",
    "        num_boost_round=10,\n",
    "        metrics=\"merror\",\n",
    "        as_pandas=True\n",
    "    )\n",
    "    rmses_l1.append(cv_results[\"test-merror-mean\"].tail().values[0])\n",
    "\n",
    "# Print accuracy\n",
    "accuracy = 1 - cv_results[\"test-merror-mean\"].iloc[-1]\n",
    "print(\"Accuracy with PCA: %f\" % accuracy)\n",
    "\n",
    "# Train XGBoost model with ridge regularization\n",
    "# Use the original feature matrix X or apply PCA if desired\n"
   ]
  },
  {
   "cell_type": "code",
   "execution_count": 319,
   "id": "32d84bf4",
   "metadata": {},
   "outputs": [
    {
     "name": "stdout",
     "output_type": "stream",
     "text": [
      "Fitting 4 folds for each of 25 candidates, totalling 100 fits\n",
      "Best Parameters: {'subsample': 0.6, 'max_depth': 9, 'eta': 0.01, 'alpha': 0.1}\n",
      "Best Score: 0.71875\n",
      "Accuracy on test set: 0.7115384615384616\n"
     ]
    }
   ],
   "source": [
    "model = XGBClassifier(\n",
    "    objective='multi:softmax',\n",
    "    num_class=len(set(y)),\n",
    "    eval_metric=\"merror\",\n",
    "    use_label_encoder=False  # 对于最新版本的XGBoost，避免使用标签编码器的警告\n",
    ")\n",
    "\n",
    "\n",
    "param_dist = {\n",
    "    'max_depth': [3, 4, 5, 6, 7, 8, 9, 10],\n",
    "    'eta': [0.01, 0.05, 0.1, 0.2, 0.3],\n",
    "    'subsample': [0.5, 0.6, 0.7, 0.8, 0.9, 1.0],\n",
    "    'alpha': [0, 0.1]\n",
    "}\n",
    "\n",
    "# 初始化RandomizedSearchCV\n",
    "random_search = RandomizedSearchCV(\n",
    "    estimator=model,\n",
    "    param_distributions=param_dist,\n",
    "    n_iter=25,  # 可以调整为更高以进行更广泛的搜索\n",
    "    scoring='accuracy',  # 根据问题可以调整评分标准\n",
    "    n_jobs=-1,  # 使用所有的CPU核心\n",
    "    cv=4,  # 4折交叉验证\n",
    "    verbose=3,  # 可以调整输出的详细程度\n",
    "    random_state=42\n",
    ")\n",
    "\n",
    "# 执行搜索\n",
    "random_search.fit(X_train, y_train)\n",
    "\n",
    "# 输出最佳参数和性能\n",
    "print(\"Best Parameters:\", random_search.best_params_)\n",
    "print(\"Best Score:\", random_search.best_score_)\n",
    "\n",
    "# 在测试集上评估性能\n",
    "best_model = random_search.best_estimator_\n",
    "accuracy = best_model.score(X_test, y_test)\n",
    "print(f\"Accuracy on test set: {accuracy}\")"
   ]
  },
  {
   "cell_type": "code",
   "execution_count": 324,
   "id": "4e27b12e",
   "metadata": {},
   "outputs": [
    {
     "name": "stdout",
     "output_type": "stream",
     "text": [
      "Final accuracy:  0.7115384615384616\n"
     ]
    }
   ],
   "source": [
    "# 如果需要，可以在测试集上评估模型的最终性能\n",
    "y_pred = best_model.predict(X_test)\n",
    "# 根据具体问题转换y_pred，例如四舍五入得到最终分类结果\n",
    "y_pred = np.round(y_pred).astype(int)\n",
    "\n",
    "# 计算并打印最终的评估指标，比如准确率\n",
    "#from sklearn.metrics import accuracy_score\n",
    "final_accuracy = accuracy_score(y_test, y_pred)\n",
    "print(\"Final accuracy: \", final_accuracy)"
   ]
  },
  {
   "cell_type": "code",
   "execution_count": 325,
   "id": "f693b160",
   "metadata": {},
   "outputs": [
    {
     "name": "stdout",
     "output_type": "stream",
     "text": [
      "Confusion Matrix:\n",
      "[[51 16]\n",
      " [14 23]]\n"
     ]
    },
    {
     "data": {
      "image/png": "[encoded data removed]",
      "text/plain": [
       "<Figure size 720x504 with 2 Axes>"
      ]
     },
     "metadata": {
      "needs_background": "light"
     },
     "output_type": "display_data"
    },
    {
     "name": "stdout",
     "output_type": "stream",
     "text": [
      "              precision    recall  f1-score   support\n",
      "\n",
      "           0       0.78      0.76      0.77        67\n",
      "           1       0.59      0.62      0.61        37\n",
      "\n",
      "    accuracy                           0.71       104\n",
      "   macro avg       0.69      0.69      0.69       104\n",
      "weighted avg       0.72      0.71      0.71       104\n",
      "\n"
     ]
    }
   ],
   "source": [
    "# 混淆矩陣\n",
    "conf_matrix = confusion_matrix(y_test, y_pred)\n",
    "print(f\"Confusion Matrix:\\n{conf_matrix}\")\n",
    "\n",
    "# 可視化混淆矩陣\n",
    "plt.figure(figsize=(10,7))\n",
    "sns.heatmap(conf_matrix, annot=True, fmt='g')\n",
    "plt.xlabel('Predicted')\n",
    "plt.ylabel('True')\n",
    "plt.title('Confusion Matrix')\n",
    "plt.show()\n",
    "\n",
    "# 分類報告\n",
    "print(classification_report(y_test, y_pred))"
   ]
  },
  {
   "cell_type": "code",
   "execution_count": 327,
   "id": "444da3be",
   "metadata": {
    "scrolled": true
   },
   "outputs": [
    {
     "data": {
      "image/png": "[encoded data removed]",
      "text/plain": [
       "<Figure size 432x288 with 1 Axes>"
      ]
     },
     "metadata": {
      "needs_background": "light"
     },
     "output_type": "display_data"
    }
   ],
   "source": [
    "# importance for features (Hard to interpret)\n",
    "xgb.plot_importance(best_model)\n",
    "plt.title('Feature Importance')\n",
    "plt.show()"
   ]
  },
  {
   "cell_type": "code",
   "execution_count": null,
   "id": "a55b2975",
   "metadata": {},
   "outputs": [],
   "source": []
  },
  {
   "cell_type": "markdown",
   "id": "33eb2a94",
   "metadata": {},
   "source": [
    "# Pod Data- Model Selection"
   ]
  },
  {
   "cell_type": "code",
   "execution_count": 121,
   "id": "baed05b4",
   "metadata": {},
   "outputs": [],
   "source": [
    "X= pod_user_data_oh.drop(\"pod_variety_satisfaction\", axis=1).values\n",
    "y= pod_user_data_oh[\"pod_variety_satisfaction\"].values"
   ]
  },
  {
   "cell_type": "code",
   "execution_count": 122,
   "id": "398bea06",
   "metadata": {},
   "outputs": [],
   "source": [
    "X_train, X_test, y_train, y_test= train_test_split(X,y, test_size= 0.2, random_state=42, stratify=y)"
   ]
  },
  {
   "cell_type": "code",
   "execution_count": 124,
   "id": "776b04a9",
   "metadata": {},
   "outputs": [
    {
     "name": "stderr",
     "output_type": "stream",
     "text": [
      "/Users/christina/opt/anaconda3/lib/python3.8/site-packages/sklearn/linear_model/_logistic.py:460: ConvergenceWarning: lbfgs failed to converge (status=1):\n",
      "STOP: TOTAL NO. of ITERATIONS REACHED LIMIT.\n",
      "\n",
      "Increase the number of iterations (max_iter) or scale the data as shown in:\n",
      "    https://scikit-learn.org/stable/modules/preprocessing.html\n",
      "Please also refer to the documentation for alternative solver options:\n",
      "    https://scikit-learn.org/stable/modules/linear_model.html#logistic-regression\n",
      "  n_iter_i = _check_optimize_result(\n",
      "/Users/christina/opt/anaconda3/lib/python3.8/site-packages/sklearn/linear_model/_logistic.py:460: ConvergenceWarning: lbfgs failed to converge (status=1):\n",
      "STOP: TOTAL NO. of ITERATIONS REACHED LIMIT.\n",
      "\n",
      "Increase the number of iterations (max_iter) or scale the data as shown in:\n",
      "    https://scikit-learn.org/stable/modules/preprocessing.html\n",
      "Please also refer to the documentation for alternative solver options:\n",
      "    https://scikit-learn.org/stable/modules/linear_model.html#logistic-regression\n",
      "  n_iter_i = _check_optimize_result(\n",
      "/Users/christina/opt/anaconda3/lib/python3.8/site-packages/sklearn/linear_model/_logistic.py:460: ConvergenceWarning: lbfgs failed to converge (status=1):\n",
      "STOP: TOTAL NO. of ITERATIONS REACHED LIMIT.\n",
      "\n",
      "Increase the number of iterations (max_iter) or scale the data as shown in:\n",
      "    https://scikit-learn.org/stable/modules/preprocessing.html\n",
      "Please also refer to the documentation for alternative solver options:\n",
      "    https://scikit-learn.org/stable/modules/linear_model.html#logistic-regression\n",
      "  n_iter_i = _check_optimize_result(\n",
      "/Users/christina/opt/anaconda3/lib/python3.8/site-packages/sklearn/linear_model/_logistic.py:460: ConvergenceWarning: lbfgs failed to converge (status=1):\n",
      "STOP: TOTAL NO. of ITERATIONS REACHED LIMIT.\n",
      "\n",
      "Increase the number of iterations (max_iter) or scale the data as shown in:\n",
      "    https://scikit-learn.org/stable/modules/preprocessing.html\n",
      "Please also refer to the documentation for alternative solver options:\n",
      "    https://scikit-learn.org/stable/modules/linear_model.html#logistic-regression\n",
      "  n_iter_i = _check_optimize_result(\n",
      "/Users/christina/opt/anaconda3/lib/python3.8/site-packages/sklearn/linear_model/_logistic.py:460: ConvergenceWarning: lbfgs failed to converge (status=1):\n",
      "STOP: TOTAL NO. of ITERATIONS REACHED LIMIT.\n",
      "\n",
      "Increase the number of iterations (max_iter) or scale the data as shown in:\n",
      "    https://scikit-learn.org/stable/modules/preprocessing.html\n",
      "Please also refer to the documentation for alternative solver options:\n",
      "    https://scikit-learn.org/stable/modules/linear_model.html#logistic-regression\n",
      "  n_iter_i = _check_optimize_result(\n"
     ]
    }
   ],
   "source": [
    "models={\n",
    "  \"Logistic Regression\": LogisticRegression(), \n",
    "  \"KNN\": KNeighborsClassifier(),\n",
    "  \"Decision Tree\": DecisionTreeClassifier()\n",
    "}\n",
    "training_result=[]\n",
    "\n",
    "for model in models.values():\n",
    "    kf= KFold(n_splits=5, random_state=42, shuffle=True)\n",
    "    cv_result=cross_val_score(model, X_train, y_train, cv=kf)\n",
    "    training_result.append(cv_result)"
   ]
  },
  {
   "cell_type": "code",
   "execution_count": 125,
   "id": "accf3fb6",
   "metadata": {},
   "outputs": [
    {
     "data": {
      "image/png": "[encoded data removed]",
      "text/plain": [
       "<Figure size 432x288 with 1 Axes>"
      ]
     },
     "metadata": {
      "needs_background": "light"
     },
     "output_type": "display_data"
    }
   ],
   "source": [
    "plt.boxplot(training_result, labels=models.keys())\n",
    "plt.show()"
   ]
  },
  {
   "cell_type": "code",
   "execution_count": 128,
   "id": "a69d51c7",
   "metadata": {},
   "outputs": [],
   "source": [
    "from sklearn.linear_model import LogisticRegression\n",
    "from sklearn.model_selection import cross_val_score\n",
    "from sklearn.metrics import classification_report, confusion_matrix\n"
   ]
  },
  {
   "cell_type": "code",
   "execution_count": 127,
   "id": "c1e46524",
   "metadata": {},
   "outputs": [
    {
     "name": "stdout",
     "output_type": "stream",
     "text": [
      "0.5192307692307693\n"
     ]
    },
    {
     "name": "stderr",
     "output_type": "stream",
     "text": [
      "/Users/christina/opt/anaconda3/lib/python3.8/site-packages/sklearn/linear_model/_logistic.py:460: ConvergenceWarning: lbfgs failed to converge (status=1):\n",
      "STOP: TOTAL NO. of ITERATIONS REACHED LIMIT.\n",
      "\n",
      "Increase the number of iterations (max_iter) or scale the data as shown in:\n",
      "    https://scikit-learn.org/stable/modules/preprocessing.html\n",
      "Please also refer to the documentation for alternative solver options:\n",
      "    https://scikit-learn.org/stable/modules/linear_model.html#logistic-regression\n",
      "  n_iter_i = _check_optimize_result(\n",
      "/Users/christina/opt/anaconda3/lib/python3.8/site-packages/sklearn/linear_model/_logistic.py:460: ConvergenceWarning: lbfgs failed to converge (status=1):\n",
      "STOP: TOTAL NO. of ITERATIONS REACHED LIMIT.\n",
      "\n",
      "Increase the number of iterations (max_iter) or scale the data as shown in:\n",
      "    https://scikit-learn.org/stable/modules/preprocessing.html\n",
      "Please also refer to the documentation for alternative solver options:\n",
      "    https://scikit-learn.org/stable/modules/linear_model.html#logistic-regression\n",
      "  n_iter_i = _check_optimize_result(\n",
      "/Users/christina/opt/anaconda3/lib/python3.8/site-packages/sklearn/linear_model/_logistic.py:460: ConvergenceWarning: lbfgs failed to converge (status=1):\n",
      "STOP: TOTAL NO. of ITERATIONS REACHED LIMIT.\n",
      "\n",
      "Increase the number of iterations (max_iter) or scale the data as shown in:\n",
      "    https://scikit-learn.org/stable/modules/preprocessing.html\n",
      "Please also refer to the documentation for alternative solver options:\n",
      "    https://scikit-learn.org/stable/modules/linear_model.html#logistic-regression\n",
      "  n_iter_i = _check_optimize_result(\n",
      "/Users/christina/opt/anaconda3/lib/python3.8/site-packages/sklearn/linear_model/_logistic.py:460: ConvergenceWarning: lbfgs failed to converge (status=1):\n",
      "STOP: TOTAL NO. of ITERATIONS REACHED LIMIT.\n",
      "\n",
      "Increase the number of iterations (max_iter) or scale the data as shown in:\n",
      "    https://scikit-learn.org/stable/modules/preprocessing.html\n",
      "Please also refer to the documentation for alternative solver options:\n",
      "    https://scikit-learn.org/stable/modules/linear_model.html#logistic-regression\n",
      "  n_iter_i = _check_optimize_result(\n",
      "/Users/christina/opt/anaconda3/lib/python3.8/site-packages/sklearn/linear_model/_logistic.py:460: ConvergenceWarning: lbfgs failed to converge (status=1):\n",
      "STOP: TOTAL NO. of ITERATIONS REACHED LIMIT.\n",
      "\n",
      "Increase the number of iterations (max_iter) or scale the data as shown in:\n",
      "    https://scikit-learn.org/stable/modules/preprocessing.html\n",
      "Please also refer to the documentation for alternative solver options:\n",
      "    https://scikit-learn.org/stable/modules/linear_model.html#logistic-regression\n",
      "  n_iter_i = _check_optimize_result(\n",
      "/Users/christina/opt/anaconda3/lib/python3.8/site-packages/sklearn/linear_model/_logistic.py:460: ConvergenceWarning: lbfgs failed to converge (status=1):\n",
      "STOP: TOTAL NO. of ITERATIONS REACHED LIMIT.\n",
      "\n",
      "Increase the number of iterations (max_iter) or scale the data as shown in:\n",
      "    https://scikit-learn.org/stable/modules/preprocessing.html\n",
      "Please also refer to the documentation for alternative solver options:\n",
      "    https://scikit-learn.org/stable/modules/linear_model.html#logistic-regression\n",
      "  n_iter_i = _check_optimize_result(\n"
     ]
    }
   ],
   "source": [
    "logreg = LogisticRegression()\n",
    "logreg_cv = cross_val_score(logreg, X_train, y_train, cv=kf, scoring=\"neg_mean_squared_error\")\n",
    "logreg.fit(X_train, y_train)  # Fit the model to the training data\n",
    "pred = logreg.predict(X_test)\n",
    "print(logreg.score(X_test, y_test))  # Compute accuracy using the test data"
   ]
  },
  {
   "cell_type": "code",
   "execution_count": 129,
   "id": "f0d0bcb9",
   "metadata": {},
   "outputs": [
    {
     "name": "stdout",
     "output_type": "stream",
     "text": [
      "[[ 0  2  2  0  0]\n",
      " [ 0 43 13  0  0]\n",
      " [ 0 19 11  0  2]\n",
      " [ 0  2  0  0  0]\n",
      " [ 0  4  6  0  0]]\n",
      "              precision    recall  f1-score   support\n",
      "\n",
      "           0       0.00      0.00      0.00         4\n",
      "           1       0.61      0.77      0.68        56\n",
      "           2       0.34      0.34      0.34        32\n",
      "           3       0.00      0.00      0.00         2\n",
      "           4       0.00      0.00      0.00        10\n",
      "\n",
      "    accuracy                           0.52       104\n",
      "   macro avg       0.19      0.22      0.21       104\n",
      "weighted avg       0.44      0.52      0.47       104\n",
      "\n"
     ]
    },
    {
     "name": "stderr",
     "output_type": "stream",
     "text": [
      "/Users/christina/opt/anaconda3/lib/python3.8/site-packages/sklearn/metrics/_classification.py:1471: UndefinedMetricWarning: Precision and F-score are ill-defined and being set to 0.0 in labels with no predicted samples. Use `zero_division` parameter to control this behavior.\n",
      "  _warn_prf(average, modifier, msg_start, len(result))\n",
      "/Users/christina/opt/anaconda3/lib/python3.8/site-packages/sklearn/metrics/_classification.py:1471: UndefinedMetricWarning: Precision and F-score are ill-defined and being set to 0.0 in labels with no predicted samples. Use `zero_division` parameter to control this behavior.\n",
      "  _warn_prf(average, modifier, msg_start, len(result))\n",
      "/Users/christina/opt/anaconda3/lib/python3.8/site-packages/sklearn/metrics/_classification.py:1471: UndefinedMetricWarning: Precision and F-score are ill-defined and being set to 0.0 in labels with no predicted samples. Use `zero_division` parameter to control this behavior.\n",
      "  _warn_prf(average, modifier, msg_start, len(result))\n"
     ]
    }
   ],
   "source": [
    "print(confusion_matrix(y_test, pred))\n",
    "print(classification_report(y_test, pred))"
   ]
  },
  {
   "cell_type": "code",
   "execution_count": 130,
   "id": "e9a252d0",
   "metadata": {},
   "outputs": [],
   "source": [
    "from sklearn.metrics import mean_squared_error"
   ]
  },
  {
   "cell_type": "code",
   "execution_count": 131,
   "id": "fa83196e",
   "metadata": {},
   "outputs": [
    {
     "name": "stdout",
     "output_type": "stream",
     "text": [
      "R^2: 0.5192307692307693\n",
      "RMSE: 1.0651832633943252\n"
     ]
    }
   ],
   "source": [
    "# Compute RMSE\n",
    "r_squared = logreg.score(X_test, y_test)\n",
    "rmse = mean_squared_error(y_test, pred, squared=False)\n",
    "\n",
    "# Print the metrics\n",
    "print(\"R^2: {}\".format(r_squared))\n",
    "print(\"RMSE: {}\".format(rmse))"
   ]
  },
  {
   "cell_type": "markdown",
   "id": "8e5f9151",
   "metadata": {},
   "source": [
    "# XGBoosts"
   ]
  },
  {
   "cell_type": "code",
   "execution_count": 133,
   "id": "8feab43c",
   "metadata": {},
   "outputs": [],
   "source": [
    "import xgboost as xgb"
   ]
  },
  {
   "cell_type": "code",
   "execution_count": 202,
   "id": "6db8fd4d",
   "metadata": {},
   "outputs": [
    {
     "name": "stdout",
     "output_type": "stream",
     "text": [
      "Accuracy: 0.480769\n"
     ]
    }
   ],
   "source": [
    "#optimal data structure created by XGB- DMatrix\n",
    "pod_dmatrix= xgb.DMatrix(data= X,label= y)\n",
    "#create cross validation parameters dict\n",
    "param= {\"objective\": \"multi:softmax\", \n",
    "        \"max_depth\":10, \n",
    "        \"num_class\": len(set(y))}\n",
    "#call cross validation\n",
    "# Call cross-validation\n",
    "cv_results = xgb.cv(\n",
    "    dtrain=pod_dmatrix,\n",
    "    params=param,\n",
    "    nfold=10,  # Number of validation folds\n",
    "    num_boost_round=100,  # Number of trees we want to build\n",
    "    metrics=\"merror\",  # The metric we want to compute (multi-class error rate)\n",
    "    as_pandas=True  # Output stored as pd.DataFrame\n",
    ")\n",
    "\n",
    "# Print Accuracy\n",
    "accuracy = 1 - cv_results[\"test-merror-mean\"].iloc[-1]\n",
    "print(\"Accuracy: %f\" % accuracy)"
   ]
  },
  {
   "cell_type": "markdown",
   "id": "1f9f84fe",
   "metadata": {},
   "source": [
    "## PCA"
   ]
  },
  {
   "cell_type": "code",
   "execution_count": 142,
   "id": "560e3449",
   "metadata": {},
   "outputs": [],
   "source": [
    "from sklearn.decomposition import PCA"
   ]
  },
  {
   "cell_type": "code",
   "execution_count": 144,
   "id": "a4804955",
   "metadata": {},
   "outputs": [
    {
     "data": {
      "image/png": "[encoded data removed]",
      "text/plain": [
       "<Figure size 432x288 with 1 Axes>"
      ]
     },
     "metadata": {
      "needs_background": "light"
     },
     "output_type": "display_data"
    }
   ],
   "source": [
    "pca= PCA()\n",
    "pca.fit(X)\n",
    "\n",
    "# Plot the explained variances\n",
    "features = range(pca.n_components_)\n",
    "plt.bar(features, pca.explained_variance_)\n",
    "plt.xlabel('PCA feature')\n",
    "plt.ylabel('variance')\n",
    "plt.xticks(features)\n",
    "plt.show()\n"
   ]
  },
  {
   "cell_type": "code",
   "execution_count": 208,
   "id": "7ded2026",
   "metadata": {},
   "outputs": [],
   "source": [
    "#elbow\n",
    "n_component=7\n",
    "pca = PCA(n_components=n_component)\n",
    "X_pca = pca.fit_transform(X)"
   ]
  },
  {
   "cell_type": "code",
   "execution_count": 163,
   "id": "67031112",
   "metadata": {},
   "outputs": [],
   "source": [
    "names=pod_user_data_oh.drop(\"pod_variety_satisfaction\", axis=1).columns.tolist()"
   ]
  },
  {
   "cell_type": "code",
   "execution_count": 219,
   "id": "0357aabe",
   "metadata": {
    "scrolled": true
   },
   "outputs": [
    {
     "data": {
      "text/html": [
       "<div>\n",
       "<style scoped>\n",
       "    .dataframe tbody tr th:only-of-type {\n",
       "        vertical-align: middle;\n",
       "    }\n",
       "\n",
       "    .dataframe tbody tr th {\n",
       "        vertical-align: top;\n",
       "    }\n",
       "\n",
       "    .dataframe thead th {\n",
       "        text-align: right;\n",
       "    }\n",
       "</style>\n",
       "<table border=\"1\" class=\"dataframe\">\n",
       "  <thead>\n",
       "    <tr style=\"text-align: right;\">\n",
       "      <th></th>\n",
       "      <th>Age</th>\n",
       "      <th>Gender</th>\n",
       "      <th>spotify_usage_period</th>\n",
       "      <th>spotify_listening_device</th>\n",
       "      <th>spotify_subscription_plan</th>\n",
       "      <th>premium_sub_willingness</th>\n",
       "      <th>preffered_premium_plan</th>\n",
       "      <th>preferred_listening_content</th>\n",
       "      <th>pod_lis_frequency</th>\n",
       "      <th>fav_pod_genre</th>\n",
       "      <th>preffered_pod_format</th>\n",
       "      <th>pod_host_preference</th>\n",
       "      <th>preffered_pod_duration</th>\n",
       "      <th>pod_variety_satisfaction</th>\n",
       "    </tr>\n",
       "  </thead>\n",
       "  <tbody>\n",
       "    <tr>\n",
       "      <th>count</th>\n",
       "      <td>520</td>\n",
       "      <td>520</td>\n",
       "      <td>520</td>\n",
       "      <td>520</td>\n",
       "      <td>520</td>\n",
       "      <td>520</td>\n",
       "      <td>520</td>\n",
       "      <td>520</td>\n",
       "      <td>520</td>\n",
       "      <td>520</td>\n",
       "      <td>520</td>\n",
       "      <td>520</td>\n",
       "      <td>520</td>\n",
       "      <td>520</td>\n",
       "    </tr>\n",
       "    <tr>\n",
       "      <th>unique</th>\n",
       "      <td>5</td>\n",
       "      <td>3</td>\n",
       "      <td>4</td>\n",
       "      <td>15</td>\n",
       "      <td>2</td>\n",
       "      <td>2</td>\n",
       "      <td>5</td>\n",
       "      <td>2</td>\n",
       "      <td>5</td>\n",
       "      <td>20</td>\n",
       "      <td>5</td>\n",
       "      <td>4</td>\n",
       "      <td>4</td>\n",
       "      <td>5</td>\n",
       "    </tr>\n",
       "    <tr>\n",
       "      <th>top</th>\n",
       "      <td>20-35</td>\n",
       "      <td>Female</td>\n",
       "      <td>More than 2 years</td>\n",
       "      <td>Smartphone</td>\n",
       "      <td>Free (ad-supported)</td>\n",
       "      <td>No</td>\n",
       "      <td>None</td>\n",
       "      <td>Music</td>\n",
       "      <td>Rarely</td>\n",
       "      <td>None</td>\n",
       "      <td>Story telling</td>\n",
       "      <td>Both</td>\n",
       "      <td>Shorter</td>\n",
       "      <td>Ok</td>\n",
       "    </tr>\n",
       "    <tr>\n",
       "      <th>freq</th>\n",
       "      <td>422</td>\n",
       "      <td>391</td>\n",
       "      <td>169</td>\n",
       "      <td>300</td>\n",
       "      <td>424</td>\n",
       "      <td>334</td>\n",
       "      <td>208</td>\n",
       "      <td>410</td>\n",
       "      <td>201</td>\n",
       "      <td>148</td>\n",
       "      <td>152</td>\n",
       "      <td>180</td>\n",
       "      <td>191</td>\n",
       "      <td>280</td>\n",
       "    </tr>\n",
       "  </tbody>\n",
       "</table>\n",
       "</div>"
      ],
      "text/plain": [
       "          Age  Gender  ... preffered_pod_duration pod_variety_satisfaction\n",
       "count     520     520  ...                    520                      520\n",
       "unique      5       3  ...                      4                        5\n",
       "top     20-35  Female  ...                Shorter                       Ok\n",
       "freq      422     391  ...                    191                      280\n",
       "\n",
       "[4 rows x 14 columns]"
      ]
     },
     "execution_count": 219,
     "metadata": {},
     "output_type": "execute_result"
    }
   ],
   "source": [
    "pod_user_data.describe()"
   ]
  },
  {
   "cell_type": "markdown",
   "id": "3609e5e8",
   "metadata": {},
   "source": [
    "## Feature Selection"
   ]
  },
  {
   "cell_type": "code",
   "execution_count": null,
   "id": "c908ed1b",
   "metadata": {},
   "outputs": [],
   "source": [
    "from sklearn.linear_model import Lasso"
   ]
  },
  {
   "cell_type": "code",
   "execution_count": 172,
   "id": "1d496974",
   "metadata": {},
   "outputs": [
    {
     "name": "stdout",
     "output_type": "stream",
     "text": [
      "0.001 [-8.18936053e-02  1.60581710e-01  8.01580638e-03  7.37069570e-03\n",
      "  1.39607329e-01  2.80068205e-01  5.27065965e-02  8.15062945e-02\n",
      "  7.99521828e-02 -1.97244168e-02 -3.84472514e-02  1.63679579e-04\n",
      "  7.45932818e-03]\n"
     ]
    },
    {
     "data": {
      "image/png": "[encoded data removed]",
      "text/plain": [
       "<Figure size 432x288 with 1 Axes>"
      ]
     },
     "metadata": {
      "needs_background": "light"
     },
     "output_type": "display_data"
    },
    {
     "name": "stdout",
     "output_type": "stream",
     "text": [
      "0.01 [-0.04329584  0.1277265   0.00076959  0.00351189  0.08827515  0.25487051\n",
      "  0.03778877  0.01135186  0.07710017 -0.0192276  -0.0341402  -0.\n",
      " -0.        ]\n"
     ]
    },
    {
     "data": {
      "image/png": "[encoded data removed]",
      "text/plain": [
       "<Figure size 432x288 with 1 Axes>"
      ]
     },
     "metadata": {
      "needs_background": "light"
     },
     "output_type": "display_data"
    },
    {
     "name": "stdout",
     "output_type": "stream",
     "text": [
      "0.1 [-0.          0.          0.         -0.          0.          0.\n",
      " -0.          0.          0.0139107  -0.01760715 -0.          0.\n",
      " -0.        ]\n"
     ]
    },
    {
     "data": {
      "image/png": "[encoded data removed]",
      "text/plain": [
       "<Figure size 432x288 with 1 Axes>"
      ]
     },
     "metadata": {
      "needs_background": "light"
     },
     "output_type": "display_data"
    },
    {
     "name": "stdout",
     "output_type": "stream",
     "text": [
      "1.0 [-0.  0.  0. -0.  0.  0. -0.  0.  0. -0. -0. -0. -0.]\n"
     ]
    },
    {
     "data": {
      "image/png": "[encoded data removed]",
      "text/plain": [
       "<Figure size 432x288 with 1 Axes>"
      ]
     },
     "metadata": {
      "needs_background": "light"
     },
     "output_type": "display_data"
    }
   ],
   "source": [
    "alphas = [0.001, 0.01, 0.1, 1.0]\n",
    "ridge_scores = []\n",
    "for alpha in alphas:\n",
    "    lasso= Lasso(alpha=alpha)\n",
    "    lasso_coef= lasso.fit(X,y).coef_\n",
    "    print(alpha, lasso_coef)\n",
    "    plt.bar(names, lasso_coef)\n",
    "    plt.xticks(rotation=90)\n",
    "    plt.show()"
   ]
  },
  {
   "cell_type": "code",
   "execution_count": 250,
   "id": "13a19a05",
   "metadata": {},
   "outputs": [],
   "source": [
    "dropping_cols=['spotify_usage_period','spotify_listening_device','pod_host_preference','preffered_pod_duration',\"pod_variety_satisfaction\"]\n",
    "selecting_cols=['pod_lis_frequency', 'fav_pod_genre']"
   ]
  },
  {
   "cell_type": "code",
   "execution_count": 230,
   "id": "694ffb5a",
   "metadata": {},
   "outputs": [],
   "source": [
    "#try1\n",
    "X_selected= pod_user_data_oh.drop(dropping_cols, axis=1).values\n",
    "y= pod_user_data_oh[\"pod_variety_satisfaction\"].values"
   ]
  },
  {
   "cell_type": "code",
   "execution_count": 253,
   "id": "b222bf7a",
   "metadata": {},
   "outputs": [],
   "source": [
    "#try2\n",
    "X_selected_2features= pod_user_data_oh[selecting_cols].values\n",
    "y= pod_user_data_oh[\"pod_variety_satisfaction\"].values"
   ]
  },
  {
   "cell_type": "markdown",
   "id": "0779cf0e",
   "metadata": {},
   "source": [
    "### Try1"
   ]
  },
  {
   "cell_type": "code",
   "execution_count": 232,
   "id": "18945c98",
   "metadata": {},
   "outputs": [],
   "source": [
    "#elbow\n",
    "n_component=7\n",
    "pca = PCA(n_components=n_component)\n",
    "X_pca_selected = pca.fit_transform(X_selected)"
   ]
  },
  {
   "cell_type": "code",
   "execution_count": 233,
   "id": "aea1866d",
   "metadata": {},
   "outputs": [
    {
     "name": "stdout",
     "output_type": "stream",
     "text": [
      "Accuracy with PCA: 0.513462\n"
     ]
    }
   ],
   "source": [
    "# Train XGBoost model with PCA-transformed features\n",
    "pod_dmatrix = xgb.DMatrix(data=X_pca_selected, label=y)\n",
    "param = {\n",
    "    \"objective\": \"multi:softmax\",\n",
    "    \"max_depth\": 4,\n",
    "    \"num_class\": len(set(y))\n",
    "}\n",
    "rmses_l1=[]\n",
    "l1_param = [0.001, 0.01, 0.1, 1.0]\n",
    "for alpha in l1_param:\n",
    "    param['alpha']= alpha \n",
    "    cv_results = xgb.cv(\n",
    "        dtrain=pod_dmatrix,\n",
    "        params=param,\n",
    "        nfold=4,\n",
    "        num_boost_round=10,\n",
    "        metrics=\"merror\",\n",
    "        as_pandas=True\n",
    "    )\n",
    "    rmses_l1.append(cv_results[\"test-merror-mean\"].tail().values[0])\n",
    "\n",
    "# Print accuracy\n",
    "accuracy = 1 - cv_results[\"test-merror-mean\"].iloc[-1]\n",
    "print(\"Accuracy with PCA: %f\" % accuracy)\n",
    "\n",
    "# Train XGBoost model with ridge regularization\n",
    "# Use the original feature matrix X or apply PCA if desired\n"
   ]
  },
  {
   "cell_type": "code",
   "execution_count": 234,
   "id": "0a44099b",
   "metadata": {},
   "outputs": [],
   "source": [
    "X_train, X_test, y_train, y_test= train_test_split(X_pca_selected,y, test_size= 0.2, random_state=42, stratify=y)"
   ]
  },
  {
   "cell_type": "markdown",
   "id": "c6a08613",
   "metadata": {},
   "source": [
    "### Try2"
   ]
  },
  {
   "cell_type": "code",
   "execution_count": 256,
   "id": "870b335a",
   "metadata": {},
   "outputs": [
    {
     "data": {
      "image/png": "[encoded data removed]",
      "text/plain": [
       "<Figure size 432x288 with 1 Axes>"
      ]
     },
     "metadata": {
      "needs_background": "light"
     },
     "output_type": "display_data"
    }
   ],
   "source": [
    "pca= PCA()\n",
    "pca.fit(X_selected_2features)\n",
    "\n",
    "# Plot the explained variances\n",
    "features = range(pca.n_components_)\n",
    "plt.bar(features, pca.explained_variance_)\n",
    "plt.xlabel('PCA feature')\n",
    "plt.ylabel('variance')\n",
    "plt.xticks(features)\n",
    "plt.show()\n",
    "X_train, X_test, y_train, y_test= train_test_split(X_selected_2features,y, test_size= 0.2, random_state=42, stratify=y)"
   ]
  },
  {
   "cell_type": "code",
   "execution_count": 257,
   "id": "b4bde296",
   "metadata": {},
   "outputs": [],
   "source": [
    "#elbow\n",
    "pca = PCA(n_components=2)\n",
    "X_pca_selected_2 = pca.fit_transform(X_selected_2features)"
   ]
  },
  {
   "cell_type": "code",
   "execution_count": 258,
   "id": "7cc16559",
   "metadata": {},
   "outputs": [
    {
     "name": "stdout",
     "output_type": "stream",
     "text": [
      "Accuracy with PCA: 0.538462\n"
     ]
    }
   ],
   "source": [
    "# Train XGBoost model with PCA-transformed features\n",
    "pod_dmatrix = xgb.DMatrix(data=X_pca_selected_2, label=y)\n",
    "param = {\n",
    "    \"objective\": \"multi:softmax\",\n",
    "    \"max_depth\": 4,\n",
    "    \"num_class\": len(set(y))\n",
    "}\n",
    "rmses_l1=[]\n",
    "l1_param = [0.001, 0.01, 0.1, 1.0]\n",
    "for alpha in l1_param:\n",
    "    param['alpha']= alpha \n",
    "    cv_results = xgb.cv(\n",
    "        dtrain=pod_dmatrix,\n",
    "        params=param,\n",
    "        nfold=4,\n",
    "        num_boost_round=10,\n",
    "        metrics=\"merror\",\n",
    "        as_pandas=True\n",
    "    )\n",
    "    rmses_l1.append(cv_results[\"test-merror-mean\"].tail().values[0])\n",
    "\n",
    "# Print accuracy\n",
    "accuracy = 1 - cv_results[\"test-merror-mean\"].iloc[-1]\n",
    "print(\"Accuracy with PCA: %f\" % accuracy)\n",
    "\n",
    "# Train XGBoost model with ridge regularization\n",
    "# Use the original feature matrix X or apply PCA if desired\n"
   ]
  },
  {
   "cell_type": "code",
   "execution_count": 279,
   "id": "d3b733d4",
   "metadata": {},
   "outputs": [],
   "source": [
    "from xgboost import XGBClassifier"
   ]
  },
  {
   "cell_type": "code",
   "execution_count": 280,
   "id": "5561972f",
   "metadata": {},
   "outputs": [
    {
     "name": "stdout",
     "output_type": "stream",
     "text": [
      "Fitting 4 folds for each of 25 candidates, totalling 100 fits\n",
      "Best Parameters: {'subsample': 0.6, 'max_depth': 4, 'eta': 0.05, 'alpha': 0}\n",
      "Best Score: 0.5336538461538461\n",
      "Accuracy on test set: 0.5865384615384616\n"
     ]
    }
   ],
   "source": [
    "model = XGBClassifier(\n",
    "    objective='multi:softmax',\n",
    "    num_class=len(set(y)),\n",
    "    eval_metric=\"merror\",\n",
    "    use_label_encoder=False  # 对于最新版本的XGBoost，避免使用标签编码器的警告\n",
    ")\n",
    "\n",
    "\n",
    "param_dist = {\n",
    "    'max_depth': [3, 4, 5, 6, 7, 8, 9, 10],\n",
    "    'eta': [0.01, 0.05, 0.1, 0.2, 0.3],\n",
    "    'subsample': [0.5, 0.6, 0.7, 0.8, 0.9, 1.0],\n",
    "    'alpha': [0, 0.1]\n",
    "}\n",
    "\n",
    "# 初始化RandomizedSearchCV\n",
    "random_search = RandomizedSearchCV(\n",
    "    estimator=model,\n",
    "    param_distributions=param_dist,\n",
    "    n_iter=25,  # 可以调整为更高以进行更广泛的搜索\n",
    "    scoring='accuracy',  # 根据问题可以调整评分标准\n",
    "    n_jobs=-1,  # 使用所有的CPU核心\n",
    "    cv=4,  # 4折交叉验证\n",
    "    verbose=3,  # 可以调整输出的详细程度\n",
    "    random_state=42\n",
    ")\n",
    "\n",
    "# 执行搜索\n",
    "random_search.fit(X_train, y_train)\n",
    "\n",
    "# 输出最佳参数和性能\n",
    "print(\"Best Parameters:\", random_search.best_params_)\n",
    "print(\"Best Score:\", random_search.best_score_)\n",
    "\n",
    "# 在测试集上评估性能\n",
    "best_model = random_search.best_estimator_\n",
    "accuracy = best_model.score(X_test, y_test)\n",
    "print(f\"Accuracy on test set: {accuracy}\")"
   ]
  },
  {
   "cell_type": "code",
   "execution_count": 281,
   "id": "bc1f898c",
   "metadata": {},
   "outputs": [
    {
     "ename": "AttributeError",
     "evalue": "`best_iteration` is only defined when early stopping is used.",
     "output_type": "error",
     "traceback": [
      "\u001b[0;31m---------------------------------------------------------------------------\u001b[0m",
      "\u001b[0;31mAttributeError\u001b[0m                            Traceback (most recent call last)",
      "\u001b[0;32m<ipython-input-281-8704a0bfe698>\u001b[0m in \u001b[0;36m<module>\u001b[0;34m\u001b[0m\n\u001b[1;32m      1\u001b[0m \u001b[0;31m# 输出最佳迭代次数\u001b[0m\u001b[0;34m\u001b[0m\u001b[0;34m\u001b[0m\u001b[0;34m\u001b[0m\u001b[0m\n\u001b[0;32m----> 2\u001b[0;31m \u001b[0mprint\u001b[0m\u001b[0;34m(\u001b[0m\u001b[0;34m\"Best iteration: \"\u001b[0m\u001b[0;34m,\u001b[0m \u001b[0mbest_model\u001b[0m\u001b[0;34m.\u001b[0m\u001b[0mbest_iteration\u001b[0m\u001b[0;34m)\u001b[0m\u001b[0;34m\u001b[0m\u001b[0;34m\u001b[0m\u001b[0m\n\u001b[0m\u001b[1;32m      3\u001b[0m \u001b[0;34m\u001b[0m\u001b[0m\n\u001b[1;32m      4\u001b[0m \u001b[0;31m# 如果需要，可以在测试集上评估模型的最终性能\u001b[0m\u001b[0;34m\u001b[0m\u001b[0;34m\u001b[0m\u001b[0;34m\u001b[0m\u001b[0m\n\u001b[1;32m      5\u001b[0m \u001b[0my_pred\u001b[0m \u001b[0;34m=\u001b[0m \u001b[0mbest_model\u001b[0m\u001b[0;34m.\u001b[0m\u001b[0mpredict\u001b[0m\u001b[0;34m(\u001b[0m\u001b[0mdtest\u001b[0m\u001b[0;34m)\u001b[0m\u001b[0;34m\u001b[0m\u001b[0;34m\u001b[0m\u001b[0m\n",
      "\u001b[0;32m~/opt/anaconda3/lib/python3.8/site-packages/xgboost/sklearn.py\u001b[0m in \u001b[0;36mbest_iteration\u001b[0;34m(self)\u001b[0m\n\u001b[1;32m   1295\u001b[0m \u001b[0;34m\u001b[0m\u001b[0m\n\u001b[1;32m   1296\u001b[0m         \"\"\"\n\u001b[0;32m-> 1297\u001b[0;31m         \u001b[0;32mreturn\u001b[0m \u001b[0mself\u001b[0m\u001b[0;34m.\u001b[0m\u001b[0mget_booster\u001b[0m\u001b[0;34m(\u001b[0m\u001b[0;34m)\u001b[0m\u001b[0;34m.\u001b[0m\u001b[0mbest_iteration\u001b[0m\u001b[0;34m\u001b[0m\u001b[0;34m\u001b[0m\u001b[0m\n\u001b[0m\u001b[1;32m   1298\u001b[0m \u001b[0;34m\u001b[0m\u001b[0m\n\u001b[1;32m   1299\u001b[0m     \u001b[0;34m@\u001b[0m\u001b[0mproperty\u001b[0m\u001b[0;34m\u001b[0m\u001b[0;34m\u001b[0m\u001b[0m\n",
      "\u001b[0;32m~/opt/anaconda3/lib/python3.8/site-packages/xgboost/core.py\u001b[0m in \u001b[0;36mbest_iteration\u001b[0;34m(self)\u001b[0m\n\u001b[1;32m   2602\u001b[0m             \u001b[0;32mreturn\u001b[0m \u001b[0mint\u001b[0m\u001b[0;34m(\u001b[0m\u001b[0mbest\u001b[0m\u001b[0;34m)\u001b[0m\u001b[0;34m\u001b[0m\u001b[0;34m\u001b[0m\u001b[0m\n\u001b[1;32m   2603\u001b[0m \u001b[0;34m\u001b[0m\u001b[0m\n\u001b[0;32m-> 2604\u001b[0;31m         raise AttributeError(\n\u001b[0m\u001b[1;32m   2605\u001b[0m             \u001b[0;34m\"`best_iteration` is only defined when early stopping is used.\"\u001b[0m\u001b[0;34m\u001b[0m\u001b[0;34m\u001b[0m\u001b[0m\n\u001b[1;32m   2606\u001b[0m         )\n",
      "\u001b[0;31mAttributeError\u001b[0m: `best_iteration` is only defined when early stopping is used."
     ]
    }
   ],
   "source": [
    "# 输出最佳迭代次数\n",
    "print(\"Best iteration: \", best_model.best_iteration)\n",
    "\n",
    "# 如果需要，可以在测试集上评估模型的最终性能\n",
    "y_pred = best_model.predict(dtest)\n",
    "# 根据具体问题转换y_pred，例如四舍五入得到最终分类结果\n",
    "y_pred = np.round(y_pred).astype(int)\n",
    "\n",
    "# 计算并打印最终的评估指标，比如准确率\n",
    "#from sklearn.metrics import accuracy_score\n",
    "final_accuracy = accuracy_score(y_test, y_pred)\n",
    "print(\"Final accuracy: \", final_accuracy)\n"
   ]
  },
  {
   "cell_type": "code",
   "execution_count": 282,
   "id": "9c059883",
   "metadata": {},
   "outputs": [
    {
     "name": "stdout",
     "output_type": "stream",
     "text": [
      "Confusion Matrix:\n",
      "[[ 0  1  3  0  0]\n",
      " [ 0 39 14  0  3]\n",
      " [ 0 14 18  0  0]\n",
      " [ 0  2  0  0  0]\n",
      " [ 0  4  5  0  1]]\n"
     ]
    },
    {
     "data": {
      "image/png": "[encoded data removed]",
      "text/plain": [
       "<Figure size 720x504 with 2 Axes>"
      ]
     },
     "metadata": {
      "needs_background": "light"
     },
     "output_type": "display_data"
    },
    {
     "name": "stdout",
     "output_type": "stream",
     "text": [
      "              precision    recall  f1-score   support\n",
      "\n",
      "           0       0.00      0.00      0.00         4\n",
      "           1       0.65      0.70      0.67        56\n",
      "           2       0.45      0.56      0.50        32\n",
      "           3       0.00      0.00      0.00         2\n",
      "           4       0.25      0.10      0.14        10\n",
      "\n",
      "    accuracy                           0.56       104\n",
      "   macro avg       0.27      0.27      0.26       104\n",
      "weighted avg       0.51      0.56      0.53       104\n",
      "\n"
     ]
    },
    {
     "name": "stderr",
     "output_type": "stream",
     "text": [
      "/Users/christina/opt/anaconda3/lib/python3.8/site-packages/sklearn/metrics/_classification.py:1471: UndefinedMetricWarning: Precision and F-score are ill-defined and being set to 0.0 in labels with no predicted samples. Use `zero_division` parameter to control this behavior.\n",
      "  _warn_prf(average, modifier, msg_start, len(result))\n",
      "/Users/christina/opt/anaconda3/lib/python3.8/site-packages/sklearn/metrics/_classification.py:1471: UndefinedMetricWarning: Precision and F-score are ill-defined and being set to 0.0 in labels with no predicted samples. Use `zero_division` parameter to control this behavior.\n",
      "  _warn_prf(average, modifier, msg_start, len(result))\n",
      "/Users/christina/opt/anaconda3/lib/python3.8/site-packages/sklearn/metrics/_classification.py:1471: UndefinedMetricWarning: Precision and F-score are ill-defined and being set to 0.0 in labels with no predicted samples. Use `zero_division` parameter to control this behavior.\n",
      "  _warn_prf(average, modifier, msg_start, len(result))\n"
     ]
    }
   ],
   "source": [
    "# 混淆矩陣\n",
    "conf_matrix = confusion_matrix(y_test, y_pred)\n",
    "print(f\"Confusion Matrix:\\n{conf_matrix}\")\n",
    "\n",
    "# 可視化混淆矩陣\n",
    "plt.figure(figsize=(10,7))\n",
    "sns.heatmap(conf_matrix, annot=True, fmt='g')\n",
    "plt.xlabel('Predicted')\n",
    "plt.ylabel('True')\n",
    "plt.title('Confusion Matrix')\n",
    "plt.show()\n",
    "\n",
    "# 分類報告\n",
    "print(classification_report(y_test, y_pred))"
   ]
  },
  {
   "cell_type": "code",
   "execution_count": 283,
   "id": "12034784",
   "metadata": {
    "scrolled": true
   },
   "outputs": [
    {
     "data": {
      "image/png": "[encoded data removed]",
      "text/plain": [
       "<Figure size 432x288 with 1 Axes>"
      ]
     },
     "metadata": {
      "needs_background": "light"
     },
     "output_type": "display_data"
    }
   ],
   "source": [
    "# 繪製特徵重要性\n",
    "xgb.plot_importance(final_model)\n",
    "plt.title('Feature Importance')\n",
    "plt.show()"
   ]
  },
  {
   "cell_type": "code",
   "execution_count": 260,
   "id": "50d2c6c1",
   "metadata": {},
   "outputs": [],
   "source": [
    "model= xgb.XGBClassifier()\n",
    "model.fit(X_train, y_train)\n",
    "pred= model.predict(X_test)"
   ]
  },
  {
   "cell_type": "code",
   "execution_count": 261,
   "id": "21d6ff49",
   "metadata": {},
   "outputs": [
    {
     "name": "stdout",
     "output_type": "stream",
     "text": [
      "0.5153846153846153\n"
     ]
    }
   ],
   "source": [
    "kfold= KFold(n_splits=5, random_state=42, shuffle=True)\n",
    "results=cross_val_score(model, X_pca_selected_2, y, cv=kfold)\n",
    "print(results.mean())"
   ]
  },
  {
   "cell_type": "code",
   "execution_count": 262,
   "id": "efbafedf",
   "metadata": {},
   "outputs": [],
   "source": [
    "from sklearn.metrics import accuracy_score\n",
    "accuracy= accuracy_score(y_test, pred)"
   ]
  },
  {
   "cell_type": "code",
   "execution_count": 263,
   "id": "c59ff705",
   "metadata": {},
   "outputs": [
    {
     "data": {
      "text/plain": [
       "0.5769230769230769"
      ]
     },
     "execution_count": 263,
     "metadata": {},
     "output_type": "execute_result"
    }
   ],
   "source": [
    "accuracy"
   ]
  },
  {
   "cell_type": "markdown",
   "id": "6300c3ad",
   "metadata": {},
   "source": [
    "### Hyper parameter Tuning"
   ]
  },
  {
   "cell_type": "code",
   "execution_count": 235,
   "id": "90dfb712",
   "metadata": {},
   "outputs": [
    {
     "name": "stdout",
     "output_type": "stream",
     "text": [
      "Best Params:\n",
      "ETA: 0.01, Subsample: 0.5\n",
      "Lowest Mean MError: 0.48269230769230764\n",
      "Accuracy with PCA and Optimized Params: 0.5173076923076924\n"
     ]
    }
   ],
   "source": [
    "\n",
    "# 假設X_pca和y已經準備好並處理過\n",
    "pod_dmatrix = xgb.DMatrix(data=X_pca, label=y)\n",
    "param = {\n",
    "    \"objective\": \"multi:softmax\",\n",
    "    \"max_depth\": 10,\n",
    "    \"num_class\": len(set(y)),\n",
    "    \"alpha\": 0.1  # 初始設置，可根據需求調整\n",
    "}\n",
    "\n",
    "# 擴展參數列表以包括eta和subsample\n",
    "etas = [0.01, 0.1, 0.2]\n",
    "subs = [0.5, 0.75, 1]\n",
    "\n",
    "best_params = None\n",
    "min_error = float(\"inf\")  # 初始化最小錯誤率為無限大\n",
    "for eta in etas:\n",
    "    for sub in subs:\n",
    "        param['eta'] = eta\n",
    "        param['subsample'] = sub\n",
    "        cv_results = xgb.cv(\n",
    "            dtrain=pod_dmatrix,\n",
    "            params=param,\n",
    "            nfold=4,\n",
    "            num_boost_round=100,  # 增加迭代次數以觀察長期表現\n",
    "            metrics=\"merror\",\n",
    "            as_pandas=True,\n",
    "            early_stopping_rounds=10  # 添加早停以防過擬合\n",
    "        )\n",
    "        mean_merror = cv_results[\"test-merror-mean\"].min()\n",
    "        if mean_merror < min_error:\n",
    "            min_error = mean_merror\n",
    "            best_params = (eta, sub)\n",
    "\n",
    "# 最優化的參數\n",
    "print(f\"Best Params:\\nETA: {best_params[0]}, Subsample: {best_params[1]}\")\n",
    "print(f\"Lowest Mean MError: {min_error}\")\n",
    "\n",
    "# 計算並列印最佳參數下的準確率\n",
    "accuracy = 1 - min_error\n",
    "print(f\"Accuracy with PCA and Optimized Params: {accuracy}\")\n"
   ]
  },
  {
   "cell_type": "code",
   "execution_count": 237,
   "id": "b3a680bb",
   "metadata": {},
   "outputs": [],
   "source": [
    "model= xgb.XGBClassifier()\n",
    "model.fit(X_train, y_train)\n",
    "pred= model.predict(X_test)"
   ]
  },
  {
   "cell_type": "code",
   "execution_count": 239,
   "id": "4967cb52",
   "metadata": {},
   "outputs": [
    {
     "name": "stdout",
     "output_type": "stream",
     "text": [
      "0.5173076923076924\n"
     ]
    }
   ],
   "source": [
    "kfold= KFold(n_splits=5, random_state=42, shuffle=True)\n",
    "results=cross_val_score(model, X_pca_selected, y, cv=kfold)\n",
    "print(results.mean())"
   ]
  },
  {
   "cell_type": "code",
   "execution_count": 189,
   "id": "4ea2da14",
   "metadata": {},
   "outputs": [
    {
     "name": "stdout",
     "output_type": "stream",
     "text": [
      "0.4461538461538462\n"
     ]
    }
   ],
   "source": [
    "kfold= KFold(n_splits=5, random_state=42, shuffle=True)\n",
    "results=cross_val_score(model, X_pca, y, cv=kfold)\n",
    "print(results.mean())"
   ]
  },
  {
   "cell_type": "code",
   "execution_count": 240,
   "id": "5981aea0",
   "metadata": {},
   "outputs": [],
   "source": [
    "from sklearn.metrics import accuracy_score\n",
    "accuracy= accuracy_score(y_test, pred)"
   ]
  },
  {
   "cell_type": "code",
   "execution_count": 242,
   "id": "dd601ee3",
   "metadata": {},
   "outputs": [
    {
     "data": {
      "text/plain": [
       "0.5576923076923077"
      ]
     },
     "execution_count": 242,
     "metadata": {},
     "output_type": "execute_result"
    }
   ],
   "source": [
    "accuracy #no over-fitting generalizability preserved"
   ]
  },
  {
   "cell_type": "code",
   "execution_count": 188,
   "id": "f1c075f6",
   "metadata": {},
   "outputs": [
    {
     "data": {
      "text/plain": [
       "0.4230769230769231"
      ]
     },
     "execution_count": 188,
     "metadata": {},
     "output_type": "execute_result"
    }
   ],
   "source": [
    "accuracy"
   ]
  },
  {
   "cell_type": "code",
   "execution_count": null,
   "id": "fe958aa4",
   "metadata": {},
   "outputs": [],
   "source": []
  },
  {
   "cell_type": "code",
   "execution_count": null,
   "id": "b1f1efe0",
   "metadata": {},
   "outputs": [],
   "source": []
  },
  {
   "cell_type": "markdown",
   "id": "43df1e09",
   "metadata": {},
   "source": [
    "# Pod Dataset"
   ]
  },
  {
   "cell_type": "code",
   "execution_count": 110,
   "id": "28696526",
   "metadata": {},
   "outputs": [],
   "source": [
    "user_data=pd.read_csv('/Users/christina/Desktop/Data Career/User_Behavior/Spotify_User_Behavior.csv')\n",
    "pod_user_data = pd.concat([user_data.iloc[:, :8], user_data.iloc[:, -6:]],axis=1)\n",
    "pod_user_data.describe()\n",
    "\n",
    "category_mask= pod_user_data.dtypes==object\n",
    "category_columns = pod_user_data.columns[category_mask].tolist()\n",
    "#one hot decoding (label encoder)\n",
    "pod_user_data_oh=pd.DataFrame()\n",
    "label_mappings = {}\n",
    "for col in category_columns:\n",
    "    le = LabelEncoder()\n",
    "    pod_user_data_oh[col] = le.fit_transform(pod_user_data[col])\n",
    "    label_mappings[col] = dict(zip(le.classes_, range(len(le.classes_))))\n",
    "#label_mappings"
   ]
  }
 ],
 "metadata": {
  "kernelspec": {
   "display_name": "Python 3",
   "language": "python",
   "name": "python3"
  },
  "language_info": {
   "codemirror_mode": {
    "name": "ipython",
    "version": 3
   },
   "file_extension": ".py",
   "mimetype": "text/x-python",
   "name": "python",
   "nbconvert_exporter": "python",
   "pygments_lexer": "ipython3",
   "version": "3.8.8"
  },
  "toc": {
   "base_numbering": 1,
   "nav_menu": {},
   "number_sections": true,
   "sideBar": true,
   "skip_h1_title": false,
   "title_cell": "Table of Contents",
   "title_sidebar": "Contents",
   "toc_cell": false,
   "toc_position": {},
   "toc_section_display": true,
   "toc_window_display": false
  },
  "varInspector": {
   "cols": {
    "lenName": 16,
    "lenType": 16,
    "lenVar": 40
   },
   "kernels_config": {
    "python": {
     "delete_cmd_postfix": "",
     "delete_cmd_prefix": "del ",
     "library": "var_list.py",
     "varRefreshCmd": "print(var_dic_list())"
    },
    "r": {
     "delete_cmd_postfix": ") ",
     "delete_cmd_prefix": "rm(",
     "library": "var_list.r",
     "varRefreshCmd": "cat(var_dic_list()) "
    }
   },
   "types_to_exclude": [
    "module",
    "function",
    "builtin_function_or_method",
    "instance",
    "_Feature"
   ],
   "window_display": false
  }
 },
 "nbformat": 4,
 "nbformat_minor": 5
}
